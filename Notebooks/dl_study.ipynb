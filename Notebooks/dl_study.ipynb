{
 "cells": [
  {
   "attachments": {},
   "cell_type": "markdown",
   "metadata": {},
   "source": [
    "### Yapay Sinir Ağları:  \n",
    "\n",
    "Yüksek sayıda sütuna sahip verilerle çalışırken, yapay sinir ağı modelleri, genellikle çok sayıda gizli katmanla kullanılır. Bu gizli katmanlar, veriler arasındaki ilişkileri daha iyi yakalamak için kullanılır.  \n",
    "\n",
    "Bunun yanı sıra, veri setimizin boyutu büyük olduğu için, batch gradient descent yerine mini-batch veya stochastic gradient descent yöntemlerini kullanmalıyız. Bu, daha hızlı eğitim süreleri ve daha az bellek kullanımı sağlayabilir."
   ]
  },
  {
   "cell_type": "code",
   "execution_count": 1,
   "metadata": {},
   "outputs": [
    {
     "data": {
      "text/html": [
       "<div>\n",
       "<style scoped>\n",
       "    .dataframe tbody tr th:only-of-type {\n",
       "        vertical-align: middle;\n",
       "    }\n",
       "\n",
       "    .dataframe tbody tr th {\n",
       "        vertical-align: top;\n",
       "    }\n",
       "\n",
       "    .dataframe thead th {\n",
       "        text-align: right;\n",
       "    }\n",
       "</style>\n",
       "<table border=\"1\" class=\"dataframe\">\n",
       "  <thead>\n",
       "    <tr style=\"text-align: right;\">\n",
       "      <th></th>\n",
       "      <th>user_id</th>\n",
       "      <th>industry</th>\n",
       "      <th>location</th>\n",
       "      <th>moved_after_2019</th>\n",
       "      <th>ITU</th>\n",
       "      <th>YTU</th>\n",
       "      <th>anadolu_üniversitesi</th>\n",
       "      <th>diğer_school</th>\n",
       "      <th>ege_üniversitesi</th>\n",
       "      <th>hacettepe_üniversitesi</th>\n",
       "      <th>...</th>\n",
       "      <th>Software Development</th>\n",
       "      <th>Software Engineering</th>\n",
       "      <th>Spring Framework</th>\n",
       "      <th>Teamwork</th>\n",
       "      <th>Visual Studio</th>\n",
       "      <th>Web Development</th>\n",
       "      <th>XML</th>\n",
       "      <th>jQuery</th>\n",
       "      <th>other</th>\n",
       "      <th>skill_count</th>\n",
       "    </tr>\n",
       "  </thead>\n",
       "  <tbody>\n",
       "    <tr>\n",
       "      <th>0</th>\n",
       "      <td>1301</td>\n",
       "      <td>Information Technology</td>\n",
       "      <td>istanbul</td>\n",
       "      <td>1</td>\n",
       "      <td>0.0</td>\n",
       "      <td>0.0</td>\n",
       "      <td>0.0</td>\n",
       "      <td>1.0</td>\n",
       "      <td>0.0</td>\n",
       "      <td>0.0</td>\n",
       "      <td>...</td>\n",
       "      <td>1.0</td>\n",
       "      <td>0.0</td>\n",
       "      <td>0.0</td>\n",
       "      <td>0.0</td>\n",
       "      <td>0.0</td>\n",
       "      <td>0.0</td>\n",
       "      <td>0.0</td>\n",
       "      <td>0.0</td>\n",
       "      <td>1.0</td>\n",
       "      <td>23.0</td>\n",
       "    </tr>\n",
       "    <tr>\n",
       "      <th>1</th>\n",
       "      <td>6950</td>\n",
       "      <td>Information Technology</td>\n",
       "      <td>istanbul</td>\n",
       "      <td>0</td>\n",
       "      <td>0.0</td>\n",
       "      <td>0.0</td>\n",
       "      <td>0.0</td>\n",
       "      <td>1.0</td>\n",
       "      <td>0.0</td>\n",
       "      <td>0.0</td>\n",
       "      <td>...</td>\n",
       "      <td>1.0</td>\n",
       "      <td>1.0</td>\n",
       "      <td>0.0</td>\n",
       "      <td>0.0</td>\n",
       "      <td>0.0</td>\n",
       "      <td>1.0</td>\n",
       "      <td>0.0</td>\n",
       "      <td>0.0</td>\n",
       "      <td>1.0</td>\n",
       "      <td>49.0</td>\n",
       "    </tr>\n",
       "    <tr>\n",
       "      <th>2</th>\n",
       "      <td>4880</td>\n",
       "      <td>Others</td>\n",
       "      <td>diğer</td>\n",
       "      <td>0</td>\n",
       "      <td>0.0</td>\n",
       "      <td>0.0</td>\n",
       "      <td>0.0</td>\n",
       "      <td>1.0</td>\n",
       "      <td>0.0</td>\n",
       "      <td>0.0</td>\n",
       "      <td>...</td>\n",
       "      <td>0.0</td>\n",
       "      <td>0.0</td>\n",
       "      <td>0.0</td>\n",
       "      <td>0.0</td>\n",
       "      <td>0.0</td>\n",
       "      <td>1.0</td>\n",
       "      <td>0.0</td>\n",
       "      <td>1.0</td>\n",
       "      <td>1.0</td>\n",
       "      <td>21.0</td>\n",
       "    </tr>\n",
       "    <tr>\n",
       "      <th>3</th>\n",
       "      <td>26046</td>\n",
       "      <td>Information Technology</td>\n",
       "      <td>istanbul</td>\n",
       "      <td>0</td>\n",
       "      <td>0.0</td>\n",
       "      <td>0.0</td>\n",
       "      <td>0.0</td>\n",
       "      <td>1.0</td>\n",
       "      <td>0.0</td>\n",
       "      <td>0.0</td>\n",
       "      <td>...</td>\n",
       "      <td>0.0</td>\n",
       "      <td>1.0</td>\n",
       "      <td>0.0</td>\n",
       "      <td>0.0</td>\n",
       "      <td>0.0</td>\n",
       "      <td>0.0</td>\n",
       "      <td>0.0</td>\n",
       "      <td>0.0</td>\n",
       "      <td>1.0</td>\n",
       "      <td>30.0</td>\n",
       "    </tr>\n",
       "  </tbody>\n",
       "</table>\n",
       "<p>4 rows × 118 columns</p>\n",
       "</div>"
      ],
      "text/plain": [
       "   user_id                industry  location  moved_after_2019  ITU  YTU  \\\n",
       "0     1301  Information Technology  istanbul                 1  0.0  0.0   \n",
       "1     6950  Information Technology  istanbul                 0  0.0  0.0   \n",
       "2     4880                  Others     diğer                 0  0.0  0.0   \n",
       "3    26046  Information Technology  istanbul                 0  0.0  0.0   \n",
       "\n",
       "   anadolu_üniversitesi  diğer_school  ege_üniversitesi  \\\n",
       "0                   0.0           1.0               0.0   \n",
       "1                   0.0           1.0               0.0   \n",
       "2                   0.0           1.0               0.0   \n",
       "3                   0.0           1.0               0.0   \n",
       "\n",
       "   hacettepe_üniversitesi  ...  Software Development  Software Engineering  \\\n",
       "0                     0.0  ...                   1.0                   0.0   \n",
       "1                     0.0  ...                   1.0                   1.0   \n",
       "2                     0.0  ...                   0.0                   0.0   \n",
       "3                     0.0  ...                   0.0                   1.0   \n",
       "\n",
       "   Spring Framework  Teamwork  Visual Studio  Web Development  XML  jQuery  \\\n",
       "0               0.0       0.0            0.0              0.0  0.0     0.0   \n",
       "1               0.0       0.0            0.0              1.0  0.0     0.0   \n",
       "2               0.0       0.0            0.0              1.0  0.0     1.0   \n",
       "3               0.0       0.0            0.0              0.0  0.0     0.0   \n",
       "\n",
       "   other  skill_count  \n",
       "0    1.0         23.0  \n",
       "1    1.0         49.0  \n",
       "2    1.0         21.0  \n",
       "3    1.0         30.0  \n",
       "\n",
       "[4 rows x 118 columns]"
      ]
     },
     "execution_count": 1,
     "metadata": {},
     "output_type": "execute_result"
    }
   ],
   "source": [
    "import pandas as pd \n",
    "import numpy as np \n",
    "\n",
    "train = pd.read_csv('../ML-DL Datasets/train.csv')\n",
    "train.head(4)"
   ]
  },
  {
   "cell_type": "code",
   "execution_count": 2,
   "metadata": {},
   "outputs": [
    {
     "data": {
      "text/html": [
       "<div>\n",
       "<style scoped>\n",
       "    .dataframe tbody tr th:only-of-type {\n",
       "        vertical-align: middle;\n",
       "    }\n",
       "\n",
       "    .dataframe tbody tr th {\n",
       "        vertical-align: top;\n",
       "    }\n",
       "\n",
       "    .dataframe thead th {\n",
       "        text-align: right;\n",
       "    }\n",
       "</style>\n",
       "<table border=\"1\" class=\"dataframe\">\n",
       "  <thead>\n",
       "    <tr style=\"text-align: right;\">\n",
       "      <th></th>\n",
       "      <th>school_count</th>\n",
       "      <th>experience_month</th>\n",
       "      <th>exp_comp_count</th>\n",
       "      <th>language_count</th>\n",
       "      <th>skill_count</th>\n",
       "      <th>industry</th>\n",
       "      <th>location</th>\n",
       "    </tr>\n",
       "  </thead>\n",
       "  <tbody>\n",
       "    <tr>\n",
       "      <th>0</th>\n",
       "      <td>2.0</td>\n",
       "      <td>92.0</td>\n",
       "      <td>4.0</td>\n",
       "      <td>2.0</td>\n",
       "      <td>23.0</td>\n",
       "      <td>Information Technology</td>\n",
       "      <td>istanbul</td>\n",
       "    </tr>\n",
       "    <tr>\n",
       "      <th>1</th>\n",
       "      <td>1.0</td>\n",
       "      <td>117.0</td>\n",
       "      <td>6.0</td>\n",
       "      <td>3.0</td>\n",
       "      <td>49.0</td>\n",
       "      <td>Information Technology</td>\n",
       "      <td>istanbul</td>\n",
       "    </tr>\n",
       "    <tr>\n",
       "      <th>2</th>\n",
       "      <td>2.0</td>\n",
       "      <td>108.0</td>\n",
       "      <td>4.0</td>\n",
       "      <td>0.0</td>\n",
       "      <td>21.0</td>\n",
       "      <td>Others</td>\n",
       "      <td>diğer</td>\n",
       "    </tr>\n",
       "    <tr>\n",
       "      <th>3</th>\n",
       "      <td>3.0</td>\n",
       "      <td>160.0</td>\n",
       "      <td>4.0</td>\n",
       "      <td>1.0</td>\n",
       "      <td>30.0</td>\n",
       "      <td>Information Technology</td>\n",
       "      <td>istanbul</td>\n",
       "    </tr>\n",
       "    <tr>\n",
       "      <th>4</th>\n",
       "      <td>2.0</td>\n",
       "      <td>160.0</td>\n",
       "      <td>3.0</td>\n",
       "      <td>2.0</td>\n",
       "      <td>48.0</td>\n",
       "      <td>Financial Services</td>\n",
       "      <td>istanbul</td>\n",
       "    </tr>\n",
       "  </tbody>\n",
       "</table>\n",
       "</div>"
      ],
      "text/plain": [
       "   school_count  experience_month  exp_comp_count  language_count  \\\n",
       "0           2.0              92.0             4.0             2.0   \n",
       "1           1.0             117.0             6.0             3.0   \n",
       "2           2.0             108.0             4.0             0.0   \n",
       "3           3.0             160.0             4.0             1.0   \n",
       "4           2.0             160.0             3.0             2.0   \n",
       "\n",
       "   skill_count                industry  location  \n",
       "0         23.0  Information Technology  istanbul  \n",
       "1         49.0  Information Technology  istanbul  \n",
       "2         21.0                  Others     diğer  \n",
       "3         30.0  Information Technology  istanbul  \n",
       "4         48.0      Financial Services  istanbul  "
      ]
     },
     "execution_count": 2,
     "metadata": {},
     "output_type": "execute_result"
    }
   ],
   "source": [
    "spec_cols = ['school_count', 'experience_month', 'exp_comp_count', 'language_count', 'skill_count', 'industry', 'location']\n",
    "train[spec_cols].head()"
   ]
  },
  {
   "cell_type": "code",
   "execution_count": 3,
   "metadata": {},
   "outputs": [],
   "source": [
    "# scaler\n",
    "from sklearn.preprocessing import StandardScaler\n",
    "sc = StandardScaler()"
   ]
  },
  {
   "cell_type": "code",
   "execution_count": 4,
   "metadata": {},
   "outputs": [
    {
     "data": {
      "text/html": [
       "<div>\n",
       "<style scoped>\n",
       "    .dataframe tbody tr th:only-of-type {\n",
       "        vertical-align: middle;\n",
       "    }\n",
       "\n",
       "    .dataframe tbody tr th {\n",
       "        vertical-align: top;\n",
       "    }\n",
       "\n",
       "    .dataframe thead th {\n",
       "        text-align: right;\n",
       "    }\n",
       "</style>\n",
       "<table border=\"1\" class=\"dataframe\">\n",
       "  <thead>\n",
       "    <tr style=\"text-align: right;\">\n",
       "      <th></th>\n",
       "      <th>school_count</th>\n",
       "      <th>experience_month</th>\n",
       "      <th>exp_comp_count</th>\n",
       "      <th>language_count</th>\n",
       "      <th>skill_count</th>\n",
       "    </tr>\n",
       "  </thead>\n",
       "  <tbody>\n",
       "    <tr>\n",
       "      <th>0</th>\n",
       "      <td>-0.132132</td>\n",
       "      <td>-0.147686</td>\n",
       "      <td>0.487529</td>\n",
       "      <td>0.696960</td>\n",
       "      <td>0.140200</td>\n",
       "    </tr>\n",
       "    <tr>\n",
       "      <th>1</th>\n",
       "      <td>-1.002056</td>\n",
       "      <td>0.208104</td>\n",
       "      <td>1.384526</td>\n",
       "      <td>1.516626</td>\n",
       "      <td>2.018894</td>\n",
       "    </tr>\n",
       "    <tr>\n",
       "      <th>2</th>\n",
       "      <td>-0.132132</td>\n",
       "      <td>0.080019</td>\n",
       "      <td>0.487529</td>\n",
       "      <td>-0.942370</td>\n",
       "      <td>-0.004315</td>\n",
       "    </tr>\n",
       "    <tr>\n",
       "      <th>3</th>\n",
       "      <td>0.737792</td>\n",
       "      <td>0.820063</td>\n",
       "      <td>0.487529</td>\n",
       "      <td>-0.122705</td>\n",
       "      <td>0.646002</td>\n",
       "    </tr>\n",
       "    <tr>\n",
       "      <th>4</th>\n",
       "      <td>-0.132132</td>\n",
       "      <td>0.820063</td>\n",
       "      <td>0.039031</td>\n",
       "      <td>0.696960</td>\n",
       "      <td>1.946637</td>\n",
       "    </tr>\n",
       "  </tbody>\n",
       "</table>\n",
       "</div>"
      ],
      "text/plain": [
       "   school_count  experience_month  exp_comp_count  language_count  skill_count\n",
       "0     -0.132132         -0.147686        0.487529        0.696960     0.140200\n",
       "1     -1.002056          0.208104        1.384526        1.516626     2.018894\n",
       "2     -0.132132          0.080019        0.487529       -0.942370    -0.004315\n",
       "3      0.737792          0.820063        0.487529       -0.122705     0.646002\n",
       "4     -0.132132          0.820063        0.039031        0.696960     1.946637"
      ]
     },
     "execution_count": 4,
     "metadata": {},
     "output_type": "execute_result"
    }
   ],
   "source": [
    "train[['school_count', 'experience_month', 'exp_comp_count', 'language_count', 'skill_count']] = sc.fit_transform(train[['school_count', 'experience_month', 'exp_comp_count', 'language_count', 'skill_count']])\n",
    "train[['school_count', 'experience_month', 'exp_comp_count', 'language_count', 'skill_count']].head()"
   ]
  },
  {
   "cell_type": "code",
   "execution_count": 5,
   "metadata": {},
   "outputs": [],
   "source": [
    "# label encoder\n",
    "from sklearn.preprocessing import LabelEncoder\n",
    "industry_le = LabelEncoder()\n",
    "location_le = LabelEncoder()"
   ]
  },
  {
   "cell_type": "code",
   "execution_count": 6,
   "metadata": {},
   "outputs": [
    {
     "data": {
      "text/html": [
       "<div>\n",
       "<style scoped>\n",
       "    .dataframe tbody tr th:only-of-type {\n",
       "        vertical-align: middle;\n",
       "    }\n",
       "\n",
       "    .dataframe tbody tr th {\n",
       "        vertical-align: top;\n",
       "    }\n",
       "\n",
       "    .dataframe thead th {\n",
       "        text-align: right;\n",
       "    }\n",
       "</style>\n",
       "<table border=\"1\" class=\"dataframe\">\n",
       "  <thead>\n",
       "    <tr style=\"text-align: right;\">\n",
       "      <th></th>\n",
       "      <th>industry</th>\n",
       "      <th>location</th>\n",
       "    </tr>\n",
       "  </thead>\n",
       "  <tbody>\n",
       "    <tr>\n",
       "      <th>0</th>\n",
       "      <td>11</td>\n",
       "      <td>8</td>\n",
       "    </tr>\n",
       "    <tr>\n",
       "      <th>1</th>\n",
       "      <td>11</td>\n",
       "      <td>8</td>\n",
       "    </tr>\n",
       "    <tr>\n",
       "      <th>2</th>\n",
       "      <td>16</td>\n",
       "      <td>5</td>\n",
       "    </tr>\n",
       "    <tr>\n",
       "      <th>3</th>\n",
       "      <td>11</td>\n",
       "      <td>8</td>\n",
       "    </tr>\n",
       "    <tr>\n",
       "      <th>4</th>\n",
       "      <td>8</td>\n",
       "      <td>8</td>\n",
       "    </tr>\n",
       "  </tbody>\n",
       "</table>\n",
       "</div>"
      ],
      "text/plain": [
       "   industry  location\n",
       "0        11         8\n",
       "1        11         8\n",
       "2        16         5\n",
       "3        11         8\n",
       "4         8         8"
      ]
     },
     "execution_count": 6,
     "metadata": {},
     "output_type": "execute_result"
    }
   ],
   "source": [
    "train['industry'] = industry_le.fit_transform(train['industry'])\n",
    "train['location'] = location_le.fit_transform(train['location'])\n",
    "train[['industry', 'location']].head()"
   ]
  },
  {
   "cell_type": "code",
   "execution_count": 7,
   "metadata": {},
   "outputs": [
    {
     "data": {
      "text/html": [
       "<div>\n",
       "<style scoped>\n",
       "    .dataframe tbody tr th:only-of-type {\n",
       "        vertical-align: middle;\n",
       "    }\n",
       "\n",
       "    .dataframe tbody tr th {\n",
       "        vertical-align: top;\n",
       "    }\n",
       "\n",
       "    .dataframe thead th {\n",
       "        text-align: right;\n",
       "    }\n",
       "</style>\n",
       "<table border=\"1\" class=\"dataframe\">\n",
       "  <thead>\n",
       "    <tr style=\"text-align: right;\">\n",
       "      <th></th>\n",
       "      <th>school_count</th>\n",
       "      <th>experience_month</th>\n",
       "      <th>exp_comp_count</th>\n",
       "      <th>language_count</th>\n",
       "      <th>skill_count</th>\n",
       "      <th>industry</th>\n",
       "      <th>location</th>\n",
       "    </tr>\n",
       "  </thead>\n",
       "  <tbody>\n",
       "    <tr>\n",
       "      <th>0</th>\n",
       "      <td>-0.132132</td>\n",
       "      <td>-0.147686</td>\n",
       "      <td>0.487529</td>\n",
       "      <td>0.696960</td>\n",
       "      <td>0.140200</td>\n",
       "      <td>11</td>\n",
       "      <td>8</td>\n",
       "    </tr>\n",
       "    <tr>\n",
       "      <th>1</th>\n",
       "      <td>-1.002056</td>\n",
       "      <td>0.208104</td>\n",
       "      <td>1.384526</td>\n",
       "      <td>1.516626</td>\n",
       "      <td>2.018894</td>\n",
       "      <td>11</td>\n",
       "      <td>8</td>\n",
       "    </tr>\n",
       "    <tr>\n",
       "      <th>2</th>\n",
       "      <td>-0.132132</td>\n",
       "      <td>0.080019</td>\n",
       "      <td>0.487529</td>\n",
       "      <td>-0.942370</td>\n",
       "      <td>-0.004315</td>\n",
       "      <td>16</td>\n",
       "      <td>5</td>\n",
       "    </tr>\n",
       "    <tr>\n",
       "      <th>3</th>\n",
       "      <td>0.737792</td>\n",
       "      <td>0.820063</td>\n",
       "      <td>0.487529</td>\n",
       "      <td>-0.122705</td>\n",
       "      <td>0.646002</td>\n",
       "      <td>11</td>\n",
       "      <td>8</td>\n",
       "    </tr>\n",
       "    <tr>\n",
       "      <th>4</th>\n",
       "      <td>-0.132132</td>\n",
       "      <td>0.820063</td>\n",
       "      <td>0.039031</td>\n",
       "      <td>0.696960</td>\n",
       "      <td>1.946637</td>\n",
       "      <td>8</td>\n",
       "      <td>8</td>\n",
       "    </tr>\n",
       "  </tbody>\n",
       "</table>\n",
       "</div>"
      ],
      "text/plain": [
       "   school_count  experience_month  exp_comp_count  language_count  \\\n",
       "0     -0.132132         -0.147686        0.487529        0.696960   \n",
       "1     -1.002056          0.208104        1.384526        1.516626   \n",
       "2     -0.132132          0.080019        0.487529       -0.942370   \n",
       "3      0.737792          0.820063        0.487529       -0.122705   \n",
       "4     -0.132132          0.820063        0.039031        0.696960   \n",
       "\n",
       "   skill_count  industry  location  \n",
       "0     0.140200        11         8  \n",
       "1     2.018894        11         8  \n",
       "2    -0.004315        16         5  \n",
       "3     0.646002        11         8  \n",
       "4     1.946637         8         8  "
      ]
     },
     "execution_count": 7,
     "metadata": {},
     "output_type": "execute_result"
    }
   ],
   "source": [
    "train[spec_cols].head()"
   ]
  },
  {
   "cell_type": "code",
   "execution_count": 8,
   "metadata": {},
   "outputs": [],
   "source": [
    "train = train.drop(['user_id'], axis=1)\n",
    "X = train.drop(['moved_after_2019'], axis=1)\n",
    "y = train[['moved_after_2019']]"
   ]
  },
  {
   "cell_type": "code",
   "execution_count": 9,
   "metadata": {},
   "outputs": [],
   "source": [
    "from sklearn.model_selection import train_test_split\n",
    "\n",
    "X_train, X_test, y_train, y_test = train_test_split(X, y, test_size=0.25, random_state=123)\n",
    "X_train, X_val, y_train, y_val = train_test_split(X_train, y_train, test_size=0.25, random_state=123)"
   ]
  },
  {
   "cell_type": "code",
   "execution_count": 10,
   "metadata": {},
   "outputs": [],
   "source": [
    "from keras.models import Sequential\n",
    "from keras.layers import Dense\n",
    "\n",
    "classifier = Sequential()\n",
    "\n",
    "classifier.add(Dense(58, input_dim=X_train.shape[1], activation='relu'))\n",
    "classifier.add(Dense(29, activation='relu'))\n",
    "classifier.add(Dense(12, activation='relu'))\n",
    "classifier.add(Dense(8, activation='relu'))\n",
    "classifier.add(Dense(1, activation='sigmoid'))\n",
    "\n",
    "classifier.compile(loss='binary_crossentropy', optimizer='adam', metrics=['accuracy'])"
   ]
  },
  {
   "cell_type": "code",
   "execution_count": 11,
   "metadata": {},
   "outputs": [],
   "source": [
    "history = classifier.fit(X_train, y_train, epochs=50, batch_size=32, validation_data=(X_val, y_val), verbose=0)"
   ]
  },
  {
   "cell_type": "code",
   "execution_count": 12,
   "metadata": {},
   "outputs": [
    {
     "data": {
      "image/png": "[encoded data removed]",
      "text/plain": [
       "<Figure size 432x288 with 1 Axes>"
      ]
     },
     "metadata": {
      "needs_background": "light"
     },
     "output_type": "display_data"
    }
   ],
   "source": [
    "import matplotlib.pyplot as plt \n",
    "\n",
    "%matplotlib inline\n",
    "\n",
    "plt.plot(history.history['loss'], label='train_loss')\n",
    "plt.plot(history.history['val_loss'], label='val_loss')\n",
    "plt.plot(history.history['accuracy'], label='train_accuracy')\n",
    "plt.plot(history.history['val_accuracy'], label='val_accuracy')\n",
    "\n",
    "plt.legend(loc='upper center', bbox_to_anchor=(0.5, -0.17), ncol=5)\n",
    "plt.title(\"DNN History Output\")\n",
    "plt.xlabel('Epoches')\n",
    "plt.ylabel('Metric Value')\n",
    "plt.savefig('../Images/DNN_output.png')\n",
    "plt.show()"
   ]
  },
  {
   "cell_type": "code",
   "execution_count": 13,
   "metadata": {},
   "outputs": [
    {
     "name": "stdout",
     "output_type": "stream",
     "text": [
      "415/415 [==============================] - 1s 1ms/step\n"
     ]
    }
   ],
   "source": [
    "dnn_predictions = classifier.predict(X_test)"
   ]
  },
  {
   "cell_type": "code",
   "execution_count": 14,
   "metadata": {},
   "outputs": [],
   "source": [
    "from sklearn.metrics import roc_curve, roc_auc_score\n",
    "\n",
    "fpr, tpr, thresholds = roc_curve(y_test, dnn_predictions)\n",
    "auc = roc_auc_score(y_test, dnn_predictions)"
   ]
  },
  {
   "cell_type": "code",
   "execution_count": 15,
   "metadata": {},
   "outputs": [
    {
     "data": {
      "image/png": "[encoded data removed]",
      "text/plain": [
       "<Figure size 432x288 with 1 Axes>"
      ]
     },
     "metadata": {
      "needs_background": "light"
     },
     "output_type": "display_data"
    }
   ],
   "source": [
    "plt.plot(fpr, tpr, label=f'ROC curve (area = {auc:0.2f})', color='orange')\n",
    "plt.plot([0, 1], [0, 1], 'k--', label='Useless Model Limit')\n",
    "\n",
    "plt.xlim([-0.05, 1.05])\n",
    "plt.ylim([-0.05, 1.05])\n",
    "\n",
    "plt.xlabel('False Positive Rate')\n",
    "plt.ylabel('True Positive Rate')\n",
    "plt.title('Neural Networks (ROC) Curve')\n",
    "plt.legend(loc=\"lower right\")\n",
    "\n",
    "plt.savefig('../Images/Neural_Networks_ROC.png')\n",
    "plt.show()"
   ]
  },
  {
   "attachments": {},
   "cell_type": "markdown",
   "metadata": {},
   "source": [
    "<hr>"
   ]
  },
  {
   "cell_type": "code",
   "execution_count": 16,
   "metadata": {},
   "outputs": [],
   "source": [
    "from keras.layers import Dropout\n",
    "\n",
    "classifier2 = Sequential()\n",
    "\n",
    "classifier2.add(Dense(232, input_dim=X_train.shape[1], activation='relu'))\n",
    "classifier2.add(Dropout(0.6))\n",
    "classifier2.add(Dense(116, activation='relu'))\n",
    "classifier2.add(Dropout(0.5))\n",
    "classifier2.add(Dense(58, activation='relu'))\n",
    "classifier2.add(Dropout(0.3))\n",
    "classifier2.add(Dense(29, activation='relu'))\n",
    "classifier2.add(Dropout(0.1))\n",
    "classifier2.add(Dense(12, activation='relu'))\n",
    "classifier2.add(Dense(8, activation='relu'))\n",
    "classifier2.add(Dense(1, activation='sigmoid'))\n",
    "\n",
    "classifier2.compile(loss='binary_crossentropy', optimizer='adam', metrics=['accuracy'])"
   ]
  },
  {
   "cell_type": "code",
   "execution_count": 17,
   "metadata": {},
   "outputs": [],
   "source": [
    "history2 = classifier2.fit(X_train, y_train, epochs=50, batch_size=32, validation_data=(X_val, y_val), verbose=0)"
   ]
  },
  {
   "cell_type": "code",
   "execution_count": 18,
   "metadata": {},
   "outputs": [
    {
     "name": "stdout",
     "output_type": "stream",
     "text": [
      "415/415 [==============================] - 1s 1ms/step\n"
     ]
    }
   ],
   "source": [
    "dnn_predictions2 = classifier2.predict(X_test)"
   ]
  },
  {
   "cell_type": "code",
   "execution_count": 19,
   "metadata": {},
   "outputs": [
    {
     "data": {
      "image/png": "[encoded data removed]",
      "text/plain": [
       "<Figure size 432x288 with 1 Axes>"
      ]
     },
     "metadata": {
      "needs_background": "light"
     },
     "output_type": "display_data"
    }
   ],
   "source": [
    "%matplotlib inline\n",
    "\n",
    "plt.plot(history2.history['loss'], label='train_loss')\n",
    "plt.plot(history2.history['val_loss'], label='val_loss')\n",
    "plt.plot(history2.history['accuracy'], label='train_accuracy')\n",
    "plt.plot(history2.history['val_accuracy'], label='val_accuracy')\n",
    "\n",
    "plt.legend(loc='upper center', bbox_to_anchor=(0.5, -0.17), ncol=5)\n",
    "plt.title(\"DNN History Output\")\n",
    "plt.xlabel('Epoches')\n",
    "plt.ylabel('Metric Value')\n",
    "plt.savefig('../Images/DNN_output2.png')\n",
    "plt.show()"
   ]
  },
  {
   "cell_type": "code",
   "execution_count": 20,
   "metadata": {},
   "outputs": [
    {
     "data": {
      "image/png": "[encoded data removed]",
      "text/plain": [
       "<Figure size 432x288 with 1 Axes>"
      ]
     },
     "metadata": {
      "needs_background": "light"
     },
     "output_type": "display_data"
    }
   ],
   "source": [
    "fpr, tpr, thresholds = roc_curve(y_test, dnn_predictions2)\n",
    "auc = roc_auc_score(y_test, dnn_predictions2)\n",
    "\n",
    "plt.plot(fpr, tpr, label=f'ROC curve (area = {auc:0.2f})', color='orange')\n",
    "plt.plot([0, 1], [0, 1], 'k--', label='Useless Model Limit')\n",
    "\n",
    "plt.xlim([-0.05, 1.05])\n",
    "plt.ylim([-0.05, 1.05])\n",
    "\n",
    "plt.xlabel('False Positive Rate')\n",
    "plt.ylabel('True Positive Rate')\n",
    "plt.title('Deep Neural Networks (ROC) Curve')\n",
    "plt.legend(loc=\"lower right\")\n",
    "\n",
    "plt.savefig('../Images/Neural_Networks_2_ROC.png')\n",
    "plt.show()"
   ]
  },
  {
   "attachments": {},
   "cell_type": "markdown",
   "metadata": {},
   "source": [
    "<hr>"
   ]
  },
  {
   "cell_type": "code",
   "execution_count": 21,
   "metadata": {},
   "outputs": [],
   "source": [
    "classifier3 = Sequential()\n",
    "\n",
    "classifier3.add(Dense(232, input_dim=X_train.shape[1], activation='relu', kernel_initializer='uniform'))\n",
    "classifier3.add(Dropout(0.7))\n",
    "classifier3.add(Dense(116, activation='relu'))\n",
    "classifier3.add(Dropout(0.2))\n",
    "classifier3.add(Dense(58, activation='sigmoid'))\n",
    "classifier3.add(Dropout(0.5))\n",
    "classifier3.add(Dense(29, activation='relu'))\n",
    "classifier3.add(Dropout(0.1))\n",
    "classifier3.add(Dense(12, activation='relu'))\n",
    "classifier3.add(Dense(8, activation='relu'))\n",
    "classifier3.add(Dense(3, activation='relu'))\n",
    "classifier3.add(Dense(1, activation='sigmoid'))\n",
    "\n",
    "classifier3.compile(loss='binary_crossentropy', optimizer='adam', metrics=['accuracy'])"
   ]
  },
  {
   "cell_type": "code",
   "execution_count": 22,
   "metadata": {},
   "outputs": [],
   "source": [
    "history3 = classifier3.fit(X_train, y_train, epochs=50, batch_size=32, validation_data=(X_val, y_val), verbose=0)"
   ]
  },
  {
   "cell_type": "code",
   "execution_count": 23,
   "metadata": {},
   "outputs": [
    {
     "name": "stdout",
     "output_type": "stream",
     "text": [
      "415/415 [==============================] - 1s 1ms/step\n"
     ]
    }
   ],
   "source": [
    "dnn_predictions3 = classifier3.predict(X_test)"
   ]
  },
  {
   "cell_type": "code",
   "execution_count": 24,
   "metadata": {},
   "outputs": [
    {
     "data": {
      "image/png": "[encoded data removed]",
      "text/plain": [
       "<Figure size 432x288 with 1 Axes>"
      ]
     },
     "metadata": {
      "needs_background": "light"
     },
     "output_type": "display_data"
    }
   ],
   "source": [
    "%matplotlib inline\n",
    "\n",
    "plt.plot(history3.history['loss'], label='train_loss')\n",
    "plt.plot(history3.history['val_loss'], label='val_loss')\n",
    "plt.plot(history3.history['accuracy'], label='train_accuracy')\n",
    "plt.plot(history3.history['val_accuracy'], label='val_accuracy')\n",
    "\n",
    "plt.legend(loc='upper center', bbox_to_anchor=(0.5, -0.17), ncol=5)\n",
    "plt.title(\"DNN History Output\")\n",
    "plt.xlabel('Epoches')\n",
    "plt.ylabel('Metric Value')\n",
    "\n",
    "plt.savefig('../Images/DNN_output3.png')\n",
    "plt.show()"
   ]
  },
  {
   "attachments": {},
   "cell_type": "markdown",
   "metadata": {},
   "source": [
    "<hr>"
   ]
  },
  {
   "cell_type": "code",
   "execution_count": 26,
   "metadata": {},
   "outputs": [
    {
     "data": {
      "text/html": [
       "<div>\n",
       "<style scoped>\n",
       "    .dataframe tbody tr th:only-of-type {\n",
       "        vertical-align: middle;\n",
       "    }\n",
       "\n",
       "    .dataframe tbody tr th {\n",
       "        vertical-align: top;\n",
       "    }\n",
       "\n",
       "    .dataframe thead th {\n",
       "        text-align: right;\n",
       "    }\n",
       "</style>\n",
       "<table border=\"1\" class=\"dataframe\">\n",
       "  <thead>\n",
       "    <tr style=\"text-align: right;\">\n",
       "      <th></th>\n",
       "      <th>0</th>\n",
       "      <th>1</th>\n",
       "      <th>accuracy</th>\n",
       "      <th>macro avg</th>\n",
       "      <th>weighted avg</th>\n",
       "    </tr>\n",
       "  </thead>\n",
       "  <tbody>\n",
       "    <tr>\n",
       "      <th>precision</th>\n",
       "      <td>0.831148</td>\n",
       "      <td>0.743074</td>\n",
       "      <td>0.797812</td>\n",
       "      <td>0.787111</td>\n",
       "      <td>0.797134</td>\n",
       "    </tr>\n",
       "    <tr>\n",
       "      <th>recall</th>\n",
       "      <td>0.841568</td>\n",
       "      <td>0.728267</td>\n",
       "      <td>0.797812</td>\n",
       "      <td>0.784918</td>\n",
       "      <td>0.797812</td>\n",
       "    </tr>\n",
       "    <tr>\n",
       "      <th>f1-score</th>\n",
       "      <td>0.836326</td>\n",
       "      <td>0.735596</td>\n",
       "      <td>0.797812</td>\n",
       "      <td>0.785961</td>\n",
       "      <td>0.797425</td>\n",
       "    </tr>\n",
       "    <tr>\n",
       "      <th>support</th>\n",
       "      <td>8136.000000</td>\n",
       "      <td>5119.000000</td>\n",
       "      <td>0.797812</td>\n",
       "      <td>13255.000000</td>\n",
       "      <td>13255.000000</td>\n",
       "    </tr>\n",
       "  </tbody>\n",
       "</table>\n",
       "</div>"
      ],
      "text/plain": [
       "                     0            1  accuracy     macro avg  weighted avg\n",
       "precision     0.831148     0.743074  0.797812      0.787111      0.797134\n",
       "recall        0.841568     0.728267  0.797812      0.784918      0.797812\n",
       "f1-score      0.836326     0.735596  0.797812      0.785961      0.797425\n",
       "support    8136.000000  5119.000000  0.797812  13255.000000  13255.000000"
      ]
     },
     "execution_count": 26,
     "metadata": {},
     "output_type": "execute_result"
    }
   ],
   "source": [
    "from sklearn.metrics import classification_report\n",
    "\n",
    "pd.DataFrame(classification_report(y_test, np.round(dnn_predictions), output_dict=True))"
   ]
  },
  {
   "cell_type": "code",
   "execution_count": 27,
   "metadata": {},
   "outputs": [
    {
     "data": {
      "text/html": [
       "<div>\n",
       "<style scoped>\n",
       "    .dataframe tbody tr th:only-of-type {\n",
       "        vertical-align: middle;\n",
       "    }\n",
       "\n",
       "    .dataframe tbody tr th {\n",
       "        vertical-align: top;\n",
       "    }\n",
       "\n",
       "    .dataframe thead th {\n",
       "        text-align: right;\n",
       "    }\n",
       "</style>\n",
       "<table border=\"1\" class=\"dataframe\">\n",
       "  <thead>\n",
       "    <tr style=\"text-align: right;\">\n",
       "      <th></th>\n",
       "      <th>0</th>\n",
       "      <th>1</th>\n",
       "      <th>accuracy</th>\n",
       "      <th>macro avg</th>\n",
       "      <th>weighted avg</th>\n",
       "    </tr>\n",
       "  </thead>\n",
       "  <tbody>\n",
       "    <tr>\n",
       "      <th>precision</th>\n",
       "      <td>0.843518</td>\n",
       "      <td>0.762540</td>\n",
       "      <td>0.812825</td>\n",
       "      <td>0.803029</td>\n",
       "      <td>0.812245</td>\n",
       "    </tr>\n",
       "    <tr>\n",
       "      <th>recall</th>\n",
       "      <td>0.853368</td>\n",
       "      <td>0.748388</td>\n",
       "      <td>0.812825</td>\n",
       "      <td>0.800878</td>\n",
       "      <td>0.812825</td>\n",
       "    </tr>\n",
       "    <tr>\n",
       "      <th>f1-score</th>\n",
       "      <td>0.848414</td>\n",
       "      <td>0.755398</td>\n",
       "      <td>0.812825</td>\n",
       "      <td>0.801906</td>\n",
       "      <td>0.812492</td>\n",
       "    </tr>\n",
       "    <tr>\n",
       "      <th>support</th>\n",
       "      <td>8136.000000</td>\n",
       "      <td>5119.000000</td>\n",
       "      <td>0.812825</td>\n",
       "      <td>13255.000000</td>\n",
       "      <td>13255.000000</td>\n",
       "    </tr>\n",
       "  </tbody>\n",
       "</table>\n",
       "</div>"
      ],
      "text/plain": [
       "                     0            1  accuracy     macro avg  weighted avg\n",
       "precision     0.843518     0.762540  0.812825      0.803029      0.812245\n",
       "recall        0.853368     0.748388  0.812825      0.800878      0.812825\n",
       "f1-score      0.848414     0.755398  0.812825      0.801906      0.812492\n",
       "support    8136.000000  5119.000000  0.812825  13255.000000  13255.000000"
      ]
     },
     "execution_count": 27,
     "metadata": {},
     "output_type": "execute_result"
    }
   ],
   "source": [
    "pd.DataFrame(classification_report(y_test, np.round(dnn_predictions2), output_dict=True))"
   ]
  },
  {
   "cell_type": "code",
   "execution_count": 28,
   "metadata": {},
   "outputs": [
    {
     "data": {
      "text/html": [
       "<div>\n",
       "<style scoped>\n",
       "    .dataframe tbody tr th:only-of-type {\n",
       "        vertical-align: middle;\n",
       "    }\n",
       "\n",
       "    .dataframe tbody tr th {\n",
       "        vertical-align: top;\n",
       "    }\n",
       "\n",
       "    .dataframe thead th {\n",
       "        text-align: right;\n",
       "    }\n",
       "</style>\n",
       "<table border=\"1\" class=\"dataframe\">\n",
       "  <thead>\n",
       "    <tr style=\"text-align: right;\">\n",
       "      <th></th>\n",
       "      <th>0</th>\n",
       "      <th>1</th>\n",
       "      <th>accuracy</th>\n",
       "      <th>macro avg</th>\n",
       "      <th>weighted avg</th>\n",
       "    </tr>\n",
       "  </thead>\n",
       "  <tbody>\n",
       "    <tr>\n",
       "      <th>precision</th>\n",
       "      <td>0.834696</td>\n",
       "      <td>0.744168</td>\n",
       "      <td>0.800151</td>\n",
       "      <td>0.789432</td>\n",
       "      <td>0.799734</td>\n",
       "    </tr>\n",
       "    <tr>\n",
       "      <th>recall</th>\n",
       "      <td>0.840954</td>\n",
       "      <td>0.735300</td>\n",
       "      <td>0.800151</td>\n",
       "      <td>0.788127</td>\n",
       "      <td>0.800151</td>\n",
       "    </tr>\n",
       "    <tr>\n",
       "      <th>f1-score</th>\n",
       "      <td>0.837813</td>\n",
       "      <td>0.739707</td>\n",
       "      <td>0.800151</td>\n",
       "      <td>0.788760</td>\n",
       "      <td>0.799925</td>\n",
       "    </tr>\n",
       "    <tr>\n",
       "      <th>support</th>\n",
       "      <td>8136.000000</td>\n",
       "      <td>5119.000000</td>\n",
       "      <td>0.800151</td>\n",
       "      <td>13255.000000</td>\n",
       "      <td>13255.000000</td>\n",
       "    </tr>\n",
       "  </tbody>\n",
       "</table>\n",
       "</div>"
      ],
      "text/plain": [
       "                     0            1  accuracy     macro avg  weighted avg\n",
       "precision     0.834696     0.744168  0.800151      0.789432      0.799734\n",
       "recall        0.840954     0.735300  0.800151      0.788127      0.800151\n",
       "f1-score      0.837813     0.739707  0.800151      0.788760      0.799925\n",
       "support    8136.000000  5119.000000  0.800151  13255.000000  13255.000000"
      ]
     },
     "execution_count": 28,
     "metadata": {},
     "output_type": "execute_result"
    }
   ],
   "source": [
    "\n",
    "pd.DataFrame(classification_report(y_test, np.round(dnn_predictions3), output_dict=True))"
   ]
  },
  {
   "cell_type": "code",
   "execution_count": 30,
   "metadata": {},
   "outputs": [
    {
     "data": {
      "image/png": "[encoded data removed]",
      "text/plain": [
       "<Figure size 432x288 with 1 Axes>"
      ]
     },
     "metadata": {
      "needs_background": "light"
     },
     "output_type": "display_data"
    }
   ],
   "source": [
    "from sklearn.metrics import classification_report\n",
    "from sklearn.metrics import roc_curve, roc_auc_score\n",
    "\n",
    "fpr, tpr, thresholds = roc_curve(np.ravel(y_test), dnn_predictions2)\n",
    "auc = roc_auc_score(np.ravel(y_test), dnn_predictions2)\n",
    "\n",
    "plt.plot(fpr, tpr, label=f'ROC curve (area = {auc:0.2f})', color='orange')\n",
    "plt.plot([0, 1], [0, 1], 'k--', label='Useless Model Limit')\n",
    "\n",
    "plt.xlim([-0.05, 1.05])\n",
    "plt.ylim([-0.05, 1.05])\n",
    "\n",
    "plt.xlabel('False Positive Rate')\n",
    "plt.ylabel('True Positive Rate')\n",
    "plt.title('ROC Curve')\n",
    "plt.legend(loc=\"lower right\")\n",
    "\n",
    "plt.show()"
   ]
  },
  {
   "cell_type": "code",
   "execution_count": 31,
   "metadata": {},
   "outputs": [],
   "source": [
    "classifier2.save('../Boosts/SavedModels/DNN.h5')"
   ]
  }
 ],
 "metadata": {
  "kernelspec": {
   "display_name": "Python 3",
   "language": "python",
   "name": "python3"
  },
  "language_info": {
   "codemirror_mode": {
    "name": "ipython",
    "version": 3
   },
   "file_extension": ".py",
   "mimetype": "text/x-python",
   "name": "python",
   "nbconvert_exporter": "python",
   "pygments_lexer": "ipython3",
   "version": "3.10.5"
  },
  "orig_nbformat": 4,
  "vscode": {
   "interpreter": {
    "hash": "578ce5a4903d7b45920c2d79663ce2541e7c0226009dc3f8451a28c8417bba54"
   }
  }
 },
 "nbformat": 4,
 "nbformat_minor": 2
}
