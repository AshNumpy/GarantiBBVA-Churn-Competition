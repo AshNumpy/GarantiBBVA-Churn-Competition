{
 "cells": [
  {
   "cell_type": "code",
   "execution_count": 60,
   "metadata": {},
   "outputs": [],
   "source": [
    "import pandas as pd \n",
    "import numpy as np \n",
    "\n",
    "edu = pd.read_csv('../dataset/education.csv')\n",
    "lang = pd.read_csv('../dataset/languages.csv')\n",
    "skills = pd.read_csv('../dataset/skills.csv')\n",
    "exp = pd.read_csv('../dataset/work_experiences.csv')\n",
    "train = pd.read_csv('../dataset/train_users.csv')\n",
    "test = pd.read_csv('../dataset/test_users.csv')"
   ]
  },
  {
   "attachments": {},
   "cell_type": "markdown",
   "metadata": {},
   "source": [
    "### Exploring Education"
   ]
  },
  {
   "cell_type": "code",
   "execution_count": 3,
   "metadata": {},
   "outputs": [
    {
     "data": {
      "text/html": [
       "<div>\n",
       "<style scoped>\n",
       "    .dataframe tbody tr th:only-of-type {\n",
       "        vertical-align: middle;\n",
       "    }\n",
       "\n",
       "    .dataframe tbody tr th {\n",
       "        vertical-align: top;\n",
       "    }\n",
       "\n",
       "    .dataframe thead th {\n",
       "        text-align: right;\n",
       "    }\n",
       "</style>\n",
       "<table border=\"1\" class=\"dataframe\">\n",
       "  <thead>\n",
       "    <tr style=\"text-align: right;\">\n",
       "      <th></th>\n",
       "      <th>user_id</th>\n",
       "      <th>school_name</th>\n",
       "      <th>degree</th>\n",
       "      <th>fields_of_study</th>\n",
       "      <th>start_year_month</th>\n",
       "      <th>end_year_month</th>\n",
       "    </tr>\n",
       "  </thead>\n",
       "  <tbody>\n",
       "    <tr>\n",
       "      <th>0</th>\n",
       "      <td>0</td>\n",
       "      <td>Anadolu Üniversitesi</td>\n",
       "      <td>NaN</td>\n",
       "      <td>NaN</td>\n",
       "      <td>NaN</td>\n",
       "      <td>NaN</td>\n",
       "    </tr>\n",
       "    <tr>\n",
       "      <th>1</th>\n",
       "      <td>0</td>\n",
       "      <td>Adıyaman Üniversitesi</td>\n",
       "      <td>NaN</td>\n",
       "      <td>NaN</td>\n",
       "      <td>NaN</td>\n",
       "      <td>NaN</td>\n",
       "    </tr>\n",
       "    <tr>\n",
       "      <th>2</th>\n",
       "      <td>0</td>\n",
       "      <td>Fırat Üniversitesi</td>\n",
       "      <td>NaN</td>\n",
       "      <td>NaN</td>\n",
       "      <td>NaN</td>\n",
       "      <td>NaN</td>\n",
       "    </tr>\n",
       "    <tr>\n",
       "      <th>3</th>\n",
       "      <td>1</td>\n",
       "      <td>Fırat Üniversitesi</td>\n",
       "      <td>Yüksek Lisans</td>\n",
       "      <td>Yazılım Mühendisliği</td>\n",
       "      <td>NaN</td>\n",
       "      <td>NaN</td>\n",
       "    </tr>\n",
       "    <tr>\n",
       "      <th>4</th>\n",
       "      <td>1</td>\n",
       "      <td>Fırat Üniversitesi</td>\n",
       "      <td>Lisans</td>\n",
       "      <td>Yazılım Mühendisliği</td>\n",
       "      <td>NaN</td>\n",
       "      <td>NaN</td>\n",
       "    </tr>\n",
       "  </tbody>\n",
       "</table>\n",
       "</div>"
      ],
      "text/plain": [
       "   user_id            school_name         degree       fields_of_study  \\\n",
       "0        0   Anadolu Üniversitesi            NaN                   NaN   \n",
       "1        0  Adıyaman Üniversitesi            NaN                   NaN   \n",
       "2        0     Fırat Üniversitesi            NaN                   NaN   \n",
       "3        1     Fırat Üniversitesi  Yüksek Lisans  Yazılım Mühendisliği   \n",
       "4        1     Fırat Üniversitesi         Lisans  Yazılım Mühendisliği   \n",
       "\n",
       "   start_year_month  end_year_month  \n",
       "0               NaN             NaN  \n",
       "1               NaN             NaN  \n",
       "2               NaN             NaN  \n",
       "3               NaN             NaN  \n",
       "4               NaN             NaN  "
      ]
     },
     "execution_count": 3,
     "metadata": {},
     "output_type": "execute_result"
    }
   ],
   "source": [
    "edu.sort_values(by='user_id').head()"
   ]
  },
  {
   "cell_type": "code",
   "execution_count": 4,
   "metadata": {},
   "outputs": [
    {
     "data": {
      "text/plain": [
       "user_id              0.000000\n",
       "school_name          0.000000\n",
       "degree              25.139050\n",
       "fields_of_study     13.914080\n",
       "start_year_month    94.247238\n",
       "end_year_month      94.676486\n",
       "dtype: float64"
      ]
     },
     "execution_count": 4,
     "metadata": {},
     "output_type": "execute_result"
    }
   ],
   "source": [
    "edu.isnull().sum() / len(edu) * 100"
   ]
  },
  {
   "cell_type": "code",
   "execution_count": 5,
   "metadata": {},
   "outputs": [],
   "source": [
    "edu = edu[['user_id', 'school_name', 'fields_of_study','degree']]"
   ]
  },
  {
   "cell_type": "code",
   "execution_count": 6,
   "metadata": {},
   "outputs": [
    {
     "data": {
      "text/plain": [
       "lisans derecesi             17.939157\n",
       "bachelor's degree           14.398546\n",
       "master's degree              5.034994\n",
       "yüksek lisans (master)       4.915068\n",
       "lisans                       2.992514\n",
       "master of science - ms       2.198008\n",
       "bachelor of science - bs     1.921617\n",
       "lise                         1.623678\n",
       "high school diploma          1.618056\n",
       "önlisans                     1.517806\n",
       "Name: degree, dtype: float64"
      ]
     },
     "execution_count": 6,
     "metadata": {},
     "output_type": "execute_result"
    }
   ],
   "source": [
    "tot = 0\n",
    "for i in edu.degree.value_counts().tolist():\n",
    "    tot += i\n",
    "(edu.degree.str.lower().value_counts() / tot *100)[:10]"
   ]
  },
  {
   "cell_type": "code",
   "execution_count": 7,
   "metadata": {},
   "outputs": [],
   "source": [
    "mapping_dict = {\n",
    "    \"lise\":[\"lise\", \"high school\"],\n",
    "    \"Ön Lisans\":[\"ön\", \"associate\",\"yüksekokul\"],\n",
    "    \"Lisans\":[\"lisans\", \"bachelor\",\"üniversite\",\"bsc\", \n",
    "              \"bs\",\"licentiate\",\"mühendislik\",\"engineer's\",\n",
    "              \"undergraduate\",\"i̇şletme fakültesi\",\"fen\",\n",
    "              \"b.sc.\",\"fakülte\",\"b.s\"],\n",
    "    \"Master\":[\"yüksek\", \"master\",\"msc\",\"ms\",\"mba\",\"m.sc.\"],\n",
    "    \"Doktora\":[\"phd\", \"doctor\",\"doktora\"]\n",
    "}"
   ]
  },
  {
   "cell_type": "code",
   "execution_count": 8,
   "metadata": {},
   "outputs": [],
   "source": [
    "import re\n",
    "import pandas as pd\n",
    "\n",
    "def map_degree(degree):\n",
    "    if isinstance(degree, float) and pd.isna(degree):\n",
    "        return degree\n",
    "    degree = re.sub(r'[\\.,;]', '', degree).lower()\n",
    "    for mapped_degree, keywords in mapping_dict.items():\n",
    "        for keyword in keywords:\n",
    "            keyword = keyword.lower()\n",
    "            if re.search(r\"\\b\" + keyword + r\"\\b\", degree):\n",
    "                return mapped_degree\n",
    "    return \"diğer\""
   ]
  },
  {
   "cell_type": "code",
   "execution_count": 9,
   "metadata": {},
   "outputs": [
    {
     "data": {
      "text/plain": [
       "Lisans       61984\n",
       "diğer        17973\n",
       "Master       15047\n",
       "lise          5413\n",
       "Ön Lisans     3830\n",
       "Doktora       2486\n",
       "Name: degree, dtype: int64"
      ]
     },
     "execution_count": 9,
     "metadata": {},
     "output_type": "execute_result"
    }
   ],
   "source": [
    "edu['degree'] = edu['degree'].apply(map_degree)\n",
    "edu['degree'].value_counts()"
   ]
  },
  {
   "cell_type": "code",
   "execution_count": 10,
   "metadata": {},
   "outputs": [
    {
     "data": {
      "text/plain": [
       "bilgisayar mühendisliği                                   11.994753\n",
       "computer engineering                                      10.383992\n",
       "elektrik ve elektronik mühendisliği                        2.902140\n",
       "electrical and electronics engineering                     2.626755\n",
       "computer science                                           2.557501\n",
       "bilgisayar programlama                                     1.503214\n",
       "computer programming                                       1.266937\n",
       "yönetim bilişim sistemleri                                 1.114578\n",
       "mechanical engineering                                     1.055916\n",
       "industrial engineering                                     1.005402\n",
       "i̇şletme                                                   0.979330\n",
       "i̇şletme ve yönetim, genel                                 0.956517\n",
       "business administration and management, general            0.824527\n",
       "elektronik ve haberleşme mühendisliği                      0.725128\n",
       "software engineering                                       0.712092\n",
       "makine mühendisliği                                        0.696611\n",
       "endüstri mühendisliği                                      0.661577\n",
       "mathematics                                                0.650985\n",
       "bilgisayar programlama/programcı, genel                    0.650985\n",
       "matematik                                                  0.650985\n",
       "science                                                    0.636320\n",
       "management information systems                             0.635505\n",
       "bilgisayar programcılığı                                   0.631431\n",
       "business administration                                    0.584991\n",
       "computer software engineering                              0.584176\n",
       "bilgisayar yazılımı mühendisliği                           0.540994\n",
       "fen bilimleri                                              0.537735\n",
       "yazılım mühendisliği                                       0.525514\n",
       "sayısal                                                    0.509219\n",
       "information technology                                     0.463593\n",
       "economics                                                  0.436706\n",
       "bilgisayar bilimleri                                       0.434262\n",
       "matematik mühendisliği                                     0.430188\n",
       "electrical, electronics and communications engineering     0.417152\n",
       "management information systems, general                    0.405746\n",
       "chemical engineering                                       0.382118\n",
       "physics                                                    0.367452\n",
       "mba                                                        0.357675\n",
       "yönetim bilgi sistemleri, genel                            0.347084\n",
       "electronics engineering                                    0.334048\n",
       "computer science and engineering                           0.322641\n",
       "electronics and communication engineering                  0.316123\n",
       "kimya mühendisliği                                         0.312864\n",
       "electrical engineering                                     0.295754\n",
       "electronics and communications engineering                 0.285977\n",
       "computer engineer                                          0.283533\n",
       "engineering management                                     0.276200\n",
       "civil engineering                                          0.273756\n",
       "fizik                                                      0.263164\n",
       "mekatronik, robotik ve otomasyon mühendisliği              0.254202\n",
       "Name: fields_of_study, dtype: float64"
      ]
     },
     "execution_count": 10,
     "metadata": {},
     "output_type": "execute_result"
    }
   ],
   "source": [
    "tot = 0\n",
    "for i in edu.fields_of_study.value_counts().tolist():\n",
    "    tot += i\n",
    "(edu.fields_of_study.str.lower().value_counts() / tot *100)[:50]"
   ]
  },
  {
   "cell_type": "code",
   "execution_count": 11,
   "metadata": {},
   "outputs": [],
   "source": [
    "mapping_study = {\n",
    "    \"computer engineering\": [\n",
    "        \"bilgisayar mühendisliği\",\n",
    "        \"computer engineering\",\n",
    "        \"bilgisayar yazılımı mühendisliği\",\n",
    "        \"computer software engineering\",\n",
    "        \"computer science and engineering\",\n",
    "        \"computer science\",\n",
    "        \"computer engineer\"\n",
    "    ],\n",
    "    \"electrical and electronics engineering\": [\n",
    "        \"elektrik ve elektronik mühendisliği\",\n",
    "        \"electrical and electronics engineering\",\n",
    "        \"elektronik ve haberleşme mühendisliği\",\n",
    "        \"electronics engineering\",\n",
    "        \"electronics and communication engineering\",\n",
    "        \"electronics and communications engineering\",\n",
    "        \"electrical, electronics and communications engineering\",\n",
    "        \"electrical engineering\"\n",
    "    ],\n",
    "    \"business administration and management\": [\n",
    "        \"yönetim bilişim sistemleri\",\n",
    "        \"i̇şletme\",\n",
    "        \"i̇şletme ve yönetim, genel\",\n",
    "        \"business administration and management, general\",\n",
    "        \"business administration\",\n",
    "        \"mba\",\n",
    "        \"yönetim bilgi sistemleri, genel\",\n",
    "        \"management information systems\",\n",
    "        \"management information systems, general\"\n",
    "    ],\n",
    "    \"mechanical engineering\": [\n",
    "        \"makine mühendisliği\",\n",
    "        \"mechanical engineering\"\n",
    "    ],\n",
    "    \"industrial engineering\": [\n",
    "        \"endüstri mühendisliği\",\n",
    "        \"industrial engineering\"\n",
    "    ],\n",
    "    \"mathematics\": [\n",
    "        \"bilgisayar programlama\",\n",
    "        \"mathematics\",\n",
    "        \"matematik\",\n",
    "        \"science\",\n",
    "        \"fen bilimleri\",\n",
    "        \"matematik mühendisliği\"\n",
    "    ],\n",
    "    \"computer programming\": [\n",
    "        \"computer programming\",\n",
    "        \"bilgisayar programlama/programcı, genel\",\n",
    "        \"bilgisayar programcılığı\"\n",
    "    ],\n",
    "    \"software engineering\": [\n",
    "        \"yazılım mühendisliği\",\n",
    "        \"software engineering\"\n",
    "    ],\n",
    "    \"information technology\": [\n",
    "        \"information technology\"\n",
    "    ],\n",
    "    \"economics\": [\n",
    "        \"economics\"\n",
    "    ],\n",
    "    \"physics\": [\n",
    "        \"physics\",\n",
    "        \"fizik\"\n",
    "    ],\n",
    "    \"chemical engineering\": [\n",
    "        \"kimya mühendisliği\",\n",
    "        \"chemical engineering\"\n",
    "    ],\n",
    "    \"engineering management\": [\n",
    "        \"engineering management\"\n",
    "    ],\n",
    "    \"civil engineering\": [\n",
    "        \"civil engineering\"\n",
    "    ],\n",
    "    \"mechatronics, robotics and automation engineering\": [\n",
    "        \"mekatronik, robotik ve otomasyon mühendisliği\"\n",
    "    ]\n",
    "}"
   ]
  },
  {
   "cell_type": "code",
   "execution_count": 12,
   "metadata": {},
   "outputs": [],
   "source": [
    "import re\n",
    "import pandas as pd\n",
    "\n",
    "def map_study(study):\n",
    "    if isinstance(study, float) and pd.isna(study):\n",
    "        return study\n",
    "    study = re.sub(r'[\\.,;]', '', study).lower()\n",
    "    for mapped, keywords in mapping_study.items():\n",
    "        for keyword in keywords:\n",
    "            keyword = keyword.lower()\n",
    "            if re.search(r\"\\b\" + keyword + r\"\\b\", study):\n",
    "                return mapped\n",
    "    return \"diğer\""
   ]
  },
  {
   "cell_type": "code",
   "execution_count": 13,
   "metadata": {},
   "outputs": [
    {
     "data": {
      "text/plain": [
       "diğer                                     45288\n",
       "computer engineering                      34693\n",
       "electrical and electronics engineering    10676\n",
       "mathematics                                9437\n",
       "business administration and management     9247\n",
       "computer programming                       2694\n",
       "mechanical engineering                     2340\n",
       "industrial engineering                     2265\n",
       "software engineering                       1643\n",
       "physics                                    1295\n",
       "chemical engineering                        881\n",
       "economics                                   833\n",
       "information technology                      721\n",
       "engineering management                      383\n",
       "civil engineering                           341\n",
       "Name: fields_of_study, dtype: int64"
      ]
     },
     "execution_count": 13,
     "metadata": {},
     "output_type": "execute_result"
    }
   ],
   "source": [
    "edu['fields_of_study'] = edu['fields_of_study'].apply(map_study)\n",
    "edu['fields_of_study'].value_counts()"
   ]
  },
  {
   "cell_type": "code",
   "execution_count": 14,
   "metadata": {},
   "outputs": [
    {
     "data": {
      "text/html": [
       "<div>\n",
       "<style scoped>\n",
       "    .dataframe tbody tr th:only-of-type {\n",
       "        vertical-align: middle;\n",
       "    }\n",
       "\n",
       "    .dataframe tbody tr th {\n",
       "        vertical-align: top;\n",
       "    }\n",
       "\n",
       "    .dataframe thead th {\n",
       "        text-align: right;\n",
       "    }\n",
       "</style>\n",
       "<table border=\"1\" class=\"dataframe\">\n",
       "  <thead>\n",
       "    <tr style=\"text-align: right;\">\n",
       "      <th></th>\n",
       "      <th>user_id</th>\n",
       "      <th>school_name</th>\n",
       "      <th>fields_of_study</th>\n",
       "      <th>degree</th>\n",
       "    </tr>\n",
       "  </thead>\n",
       "  <tbody>\n",
       "    <tr>\n",
       "      <th>0</th>\n",
       "      <td>0</td>\n",
       "      <td>Anadolu Üniversitesi</td>\n",
       "      <td>NaN</td>\n",
       "      <td>NaN</td>\n",
       "    </tr>\n",
       "    <tr>\n",
       "      <th>1</th>\n",
       "      <td>0</td>\n",
       "      <td>Adıyaman Üniversitesi</td>\n",
       "      <td>NaN</td>\n",
       "      <td>NaN</td>\n",
       "    </tr>\n",
       "    <tr>\n",
       "      <th>2</th>\n",
       "      <td>0</td>\n",
       "      <td>Fırat Üniversitesi</td>\n",
       "      <td>NaN</td>\n",
       "      <td>NaN</td>\n",
       "    </tr>\n",
       "    <tr>\n",
       "      <th>3</th>\n",
       "      <td>1</td>\n",
       "      <td>Fırat Üniversitesi</td>\n",
       "      <td>software engineering</td>\n",
       "      <td>Lisans</td>\n",
       "    </tr>\n",
       "    <tr>\n",
       "      <th>4</th>\n",
       "      <td>1</td>\n",
       "      <td>Fırat Üniversitesi</td>\n",
       "      <td>software engineering</td>\n",
       "      <td>Lisans</td>\n",
       "    </tr>\n",
       "  </tbody>\n",
       "</table>\n",
       "</div>"
      ],
      "text/plain": [
       "   user_id            school_name       fields_of_study  degree\n",
       "0        0   Anadolu Üniversitesi                   NaN     NaN\n",
       "1        0  Adıyaman Üniversitesi                   NaN     NaN\n",
       "2        0     Fırat Üniversitesi                   NaN     NaN\n",
       "3        1     Fırat Üniversitesi  software engineering  Lisans\n",
       "4        1     Fırat Üniversitesi  software engineering  Lisans"
      ]
     },
     "execution_count": 14,
     "metadata": {},
     "output_type": "execute_result"
    }
   ],
   "source": [
    "edu.head()"
   ]
  },
  {
   "cell_type": "code",
   "execution_count": 15,
   "metadata": {},
   "outputs": [
    {
     "data": {
      "text/plain": [
       "user_id             0.00000\n",
       "school_name         0.00000\n",
       "fields_of_study    13.91408\n",
       "degree             25.13905\n",
       "dtype: float64"
      ]
     },
     "execution_count": 15,
     "metadata": {},
     "output_type": "execute_result"
    }
   ],
   "source": [
    "edu.isnull().sum() / len(edu) * 100"
   ]
  },
  {
   "cell_type": "code",
   "execution_count": 16,
   "metadata": {},
   "outputs": [
    {
     "data": {
      "text/plain": [
       "user_id            0\n",
       "school_name        0\n",
       "fields_of_study    0\n",
       "degree             0\n",
       "dtype: int64"
      ]
     },
     "execution_count": 16,
     "metadata": {},
     "output_type": "execute_result"
    }
   ],
   "source": [
    "edu['fields_of_study'].fillna(value=edu['fields_of_study'].mode()[0], inplace=True)\n",
    "edu['degree'].fillna(value=edu['degree'].mode()[0], inplace=True)\n",
    "edu.isnull().sum()"
   ]
  },
  {
   "cell_type": "code",
   "execution_count": 17,
   "metadata": {},
   "outputs": [
    {
     "data": {
      "text/html": [
       "<div>\n",
       "<style scoped>\n",
       "    .dataframe tbody tr th:only-of-type {\n",
       "        vertical-align: middle;\n",
       "    }\n",
       "\n",
       "    .dataframe tbody tr th {\n",
       "        vertical-align: top;\n",
       "    }\n",
       "\n",
       "    .dataframe thead th {\n",
       "        text-align: right;\n",
       "    }\n",
       "</style>\n",
       "<table border=\"1\" class=\"dataframe\">\n",
       "  <thead>\n",
       "    <tr style=\"text-align: right;\">\n",
       "      <th></th>\n",
       "      <th>user_id</th>\n",
       "      <th>school_name</th>\n",
       "      <th>fields_of_study</th>\n",
       "      <th>degree</th>\n",
       "    </tr>\n",
       "  </thead>\n",
       "  <tbody>\n",
       "    <tr>\n",
       "      <th>0</th>\n",
       "      <td>0</td>\n",
       "      <td>Anadolu_Üniversitesi</td>\n",
       "      <td>diğer</td>\n",
       "      <td>Lisans</td>\n",
       "    </tr>\n",
       "    <tr>\n",
       "      <th>1</th>\n",
       "      <td>0</td>\n",
       "      <td>Adıyaman_Üniversitesi</td>\n",
       "      <td>diğer</td>\n",
       "      <td>Lisans</td>\n",
       "    </tr>\n",
       "    <tr>\n",
       "      <th>2</th>\n",
       "      <td>0</td>\n",
       "      <td>Fırat_Üniversitesi</td>\n",
       "      <td>diğer</td>\n",
       "      <td>Lisans</td>\n",
       "    </tr>\n",
       "    <tr>\n",
       "      <th>3</th>\n",
       "      <td>1</td>\n",
       "      <td>Fırat_Üniversitesi</td>\n",
       "      <td>software engineering</td>\n",
       "      <td>Lisans</td>\n",
       "    </tr>\n",
       "    <tr>\n",
       "      <th>5</th>\n",
       "      <td>2</td>\n",
       "      <td>Fırat_Üniversitesi</td>\n",
       "      <td>computer engineering</td>\n",
       "      <td>diğer</td>\n",
       "    </tr>\n",
       "  </tbody>\n",
       "</table>\n",
       "</div>"
      ],
      "text/plain": [
       "   user_id            school_name       fields_of_study  degree\n",
       "0        0   Anadolu_Üniversitesi                 diğer  Lisans\n",
       "1        0  Adıyaman_Üniversitesi                 diğer  Lisans\n",
       "2        0     Fırat_Üniversitesi                 diğer  Lisans\n",
       "3        1     Fırat_Üniversitesi  software engineering  Lisans\n",
       "5        2     Fırat_Üniversitesi  computer engineering   diğer"
      ]
     },
     "execution_count": 17,
     "metadata": {},
     "output_type": "execute_result"
    }
   ],
   "source": [
    "edu = edu.drop_duplicates()\n",
    "edu['school_name'] = edu['school_name'].str.replace(' ','_')\n",
    "edu.head()"
   ]
  },
  {
   "cell_type": "code",
   "execution_count": 18,
   "metadata": {},
   "outputs": [
    {
     "data": {
      "text/plain": [
       "Anadolu_Üniversitesi             6380\n",
       "İstanbul_Üniversitesi            4772\n",
       "Sakarya_Üniversitesi             4254\n",
       "Kocaeli_Üniversitesi             3741\n",
       "Istanbul_Technical_University    3726\n",
       "İstanbul_Teknik_Üniversitesi     3721\n",
       "Yıldız_Teknik_Üniversitesi       3698\n",
       "Marmara_Üniversitesi             3515\n",
       "Hacettepe_Üniversitesi           2936\n",
       "Ege_Üniversitesi                 2781\n",
       "Name: school_name, dtype: int64"
      ]
     },
     "execution_count": 18,
     "metadata": {},
     "output_type": "execute_result"
    }
   ],
   "source": [
    "edu['school_name'].value_counts()[:10]"
   ]
  },
  {
   "cell_type": "code",
   "execution_count": 19,
   "metadata": {},
   "outputs": [
    {
     "data": {
      "text/html": [
       "<div>\n",
       "<style scoped>\n",
       "    .dataframe tbody tr th:only-of-type {\n",
       "        vertical-align: middle;\n",
       "    }\n",
       "\n",
       "    .dataframe tbody tr th {\n",
       "        vertical-align: top;\n",
       "    }\n",
       "\n",
       "    .dataframe thead th {\n",
       "        text-align: right;\n",
       "    }\n",
       "</style>\n",
       "<table border=\"1\" class=\"dataframe\">\n",
       "  <thead>\n",
       "    <tr style=\"text-align: right;\">\n",
       "      <th></th>\n",
       "      <th>user_id</th>\n",
       "      <th>school_name</th>\n",
       "      <th>fields_of_study</th>\n",
       "      <th>degree</th>\n",
       "    </tr>\n",
       "  </thead>\n",
       "  <tbody>\n",
       "    <tr>\n",
       "      <th>0</th>\n",
       "      <td>0</td>\n",
       "      <td>Anadolu_Üniversitesi Adıyaman_Üniversitesi Fır...</td>\n",
       "      <td>diğer diğer diğer</td>\n",
       "      <td>Lisans Lisans Lisans</td>\n",
       "    </tr>\n",
       "    <tr>\n",
       "      <th>1</th>\n",
       "      <td>1</td>\n",
       "      <td>Fırat_Üniversitesi</td>\n",
       "      <td>software engineering</td>\n",
       "      <td>Lisans</td>\n",
       "    </tr>\n",
       "    <tr>\n",
       "      <th>2</th>\n",
       "      <td>2</td>\n",
       "      <td>Fırat_Üniversitesi Hafsa_Sultan_Mesleki_ve_Tek...</td>\n",
       "      <td>computer engineering diğer</td>\n",
       "      <td>diğer lise</td>\n",
       "    </tr>\n",
       "    <tr>\n",
       "      <th>3</th>\n",
       "      <td>3</td>\n",
       "      <td>Fırat_Üniversitesi</td>\n",
       "      <td>computer engineering</td>\n",
       "      <td>Lisans</td>\n",
       "    </tr>\n",
       "    <tr>\n",
       "      <th>4</th>\n",
       "      <td>4</td>\n",
       "      <td>Fırat_Üniversitesi</td>\n",
       "      <td>software engineering</td>\n",
       "      <td>Lisans</td>\n",
       "    </tr>\n",
       "    <tr>\n",
       "      <th>...</th>\n",
       "      <td>...</td>\n",
       "      <td>...</td>\n",
       "      <td>...</td>\n",
       "      <td>...</td>\n",
       "    </tr>\n",
       "    <tr>\n",
       "      <th>66266</th>\n",
       "      <td>66269</td>\n",
       "      <td>Boğaziçi_Üniversitesi Boğaziçi_Üniversitesi OML</td>\n",
       "      <td>business administration and management compute...</td>\n",
       "      <td>Master Lisans Lisans</td>\n",
       "    </tr>\n",
       "    <tr>\n",
       "      <th>66267</th>\n",
       "      <td>66270</td>\n",
       "      <td>Boğaziçi_Üniversitesi Massachusetts_Institute_...</td>\n",
       "      <td>physics economics mathematics physics</td>\n",
       "      <td>Master diğer Lisans Lisans</td>\n",
       "    </tr>\n",
       "    <tr>\n",
       "      <th>66268</th>\n",
       "      <td>66271</td>\n",
       "      <td>Boğaziçi_Üniversitesi_/_Bogazici_University Bo...</td>\n",
       "      <td>mathematics diğer diğer</td>\n",
       "      <td>Master Lisans Doktora</td>\n",
       "    </tr>\n",
       "    <tr>\n",
       "      <th>66269</th>\n",
       "      <td>66272</td>\n",
       "      <td>Yildiz_Technical_University Halmstad_Universit...</td>\n",
       "      <td>computer engineering computer engineering diğer</td>\n",
       "      <td>Lisans Lisans Lisans</td>\n",
       "    </tr>\n",
       "    <tr>\n",
       "      <th>66270</th>\n",
       "      <td>66273</td>\n",
       "      <td>Istanbul_Technical_University Bogazici_Univers...</td>\n",
       "      <td>diğer electrical and electronics engineering d...</td>\n",
       "      <td>Lisans Master Lisans</td>\n",
       "    </tr>\n",
       "  </tbody>\n",
       "</table>\n",
       "<p>66271 rows × 4 columns</p>\n",
       "</div>"
      ],
      "text/plain": [
       "       user_id                                        school_name  \\\n",
       "0            0  Anadolu_Üniversitesi Adıyaman_Üniversitesi Fır...   \n",
       "1            1                                 Fırat_Üniversitesi   \n",
       "2            2  Fırat_Üniversitesi Hafsa_Sultan_Mesleki_ve_Tek...   \n",
       "3            3                                 Fırat_Üniversitesi   \n",
       "4            4                                 Fırat_Üniversitesi   \n",
       "...        ...                                                ...   \n",
       "66266    66269    Boğaziçi_Üniversitesi Boğaziçi_Üniversitesi OML   \n",
       "66267    66270  Boğaziçi_Üniversitesi Massachusetts_Institute_...   \n",
       "66268    66271  Boğaziçi_Üniversitesi_/_Bogazici_University Bo...   \n",
       "66269    66272  Yildiz_Technical_University Halmstad_Universit...   \n",
       "66270    66273  Istanbul_Technical_University Bogazici_Univers...   \n",
       "\n",
       "                                         fields_of_study  \\\n",
       "0                                      diğer diğer diğer   \n",
       "1                                   software engineering   \n",
       "2                             computer engineering diğer   \n",
       "3                                   computer engineering   \n",
       "4                                   software engineering   \n",
       "...                                                  ...   \n",
       "66266  business administration and management compute...   \n",
       "66267              physics economics mathematics physics   \n",
       "66268                            mathematics diğer diğer   \n",
       "66269    computer engineering computer engineering diğer   \n",
       "66270  diğer electrical and electronics engineering d...   \n",
       "\n",
       "                           degree  \n",
       "0            Lisans Lisans Lisans  \n",
       "1                          Lisans  \n",
       "2                      diğer lise  \n",
       "3                          Lisans  \n",
       "4                          Lisans  \n",
       "...                           ...  \n",
       "66266        Master Lisans Lisans  \n",
       "66267  Master diğer Lisans Lisans  \n",
       "66268       Master Lisans Doktora  \n",
       "66269        Lisans Lisans Lisans  \n",
       "66270        Lisans Master Lisans  \n",
       "\n",
       "[66271 rows x 4 columns]"
      ]
     },
     "execution_count": 19,
     "metadata": {},
     "output_type": "execute_result"
    }
   ],
   "source": [
    "school = edu.groupby('user_id')[\"school_name\"].apply(\" \".join).reset_index()\n",
    "fields = edu.groupby('user_id')[\"fields_of_study\"].apply(\" \".join).reset_index()\n",
    "degree = edu.groupby('user_id')[\"degree\"].apply(\" \".join).reset_index()\n",
    "edu = pd.merge(pd.merge(school, fields, on='user_id', how='left'), degree, on='user_id', how='left')\n",
    "edu.reset_index(drop=True)\n",
    "edu"
   ]
  },
  {
   "cell_type": "code",
   "execution_count": 20,
   "metadata": {},
   "outputs": [],
   "source": [
    "edu.to_csv('../exported_datasets/edu.csv', index=False)"
   ]
  },
  {
   "attachments": {},
   "cell_type": "markdown",
   "metadata": {},
   "source": [
    "<hr>"
   ]
  },
  {
   "attachments": {},
   "cell_type": "markdown",
   "metadata": {},
   "source": [
    "#### Language Exploring"
   ]
  },
  {
   "cell_type": "code",
   "execution_count": 21,
   "metadata": {},
   "outputs": [
    {
     "data": {
      "text/html": [
       "<div>\n",
       "<style scoped>\n",
       "    .dataframe tbody tr th:only-of-type {\n",
       "        vertical-align: middle;\n",
       "    }\n",
       "\n",
       "    .dataframe tbody tr th {\n",
       "        vertical-align: top;\n",
       "    }\n",
       "\n",
       "    .dataframe thead th {\n",
       "        text-align: right;\n",
       "    }\n",
       "</style>\n",
       "<table border=\"1\" class=\"dataframe\">\n",
       "  <thead>\n",
       "    <tr style=\"text-align: right;\">\n",
       "      <th></th>\n",
       "      <th>user_id</th>\n",
       "      <th>language</th>\n",
       "      <th>proficiency</th>\n",
       "    </tr>\n",
       "  </thead>\n",
       "  <tbody>\n",
       "    <tr>\n",
       "      <th>0</th>\n",
       "      <td>8</td>\n",
       "      <td>İngilizce</td>\n",
       "      <td>full_professional</td>\n",
       "    </tr>\n",
       "    <tr>\n",
       "      <th>1</th>\n",
       "      <td>8</td>\n",
       "      <td>Türkçe</td>\n",
       "      <td>native_or_bilingual</td>\n",
       "    </tr>\n",
       "    <tr>\n",
       "      <th>2</th>\n",
       "      <td>8</td>\n",
       "      <td>Fransızca</td>\n",
       "      <td>elementary</td>\n",
       "    </tr>\n",
       "    <tr>\n",
       "      <th>3</th>\n",
       "      <td>10</td>\n",
       "      <td>ingilizce</td>\n",
       "      <td>NaN</td>\n",
       "    </tr>\n",
       "    <tr>\n",
       "      <th>4</th>\n",
       "      <td>11</td>\n",
       "      <td>Turkish</td>\n",
       "      <td>native_or_bilingual</td>\n",
       "    </tr>\n",
       "  </tbody>\n",
       "</table>\n",
       "</div>"
      ],
      "text/plain": [
       "   user_id   language          proficiency\n",
       "0        8  İngilizce    full_professional\n",
       "1        8     Türkçe  native_or_bilingual\n",
       "2        8  Fransızca           elementary\n",
       "3       10  ingilizce                  NaN\n",
       "4       11    Turkish  native_or_bilingual"
      ]
     },
     "execution_count": 21,
     "metadata": {},
     "output_type": "execute_result"
    }
   ],
   "source": [
    "lang.sort_values(by='user_id').head()"
   ]
  },
  {
   "cell_type": "code",
   "execution_count": 22,
   "metadata": {},
   "outputs": [
    {
     "data": {
      "text/plain": [
       "user_id         0.000000\n",
       "language        0.000000\n",
       "proficiency    14.016197\n",
       "dtype: float64"
      ]
     },
     "execution_count": 22,
     "metadata": {},
     "output_type": "execute_result"
    }
   ],
   "source": [
    "lang.isnull().sum() / len(lang) *100"
   ]
  },
  {
   "cell_type": "code",
   "execution_count": 23,
   "metadata": {},
   "outputs": [
    {
     "data": {
      "text/plain": [
       "native_or_bilingual     22026\n",
       "professional_working    18306\n",
       "elementary               8971\n",
       "full_professional        8389\n",
       "limited_working          7709\n",
       "Name: proficiency, dtype: int64"
      ]
     },
     "execution_count": 23,
     "metadata": {},
     "output_type": "execute_result"
    }
   ],
   "source": [
    "lang.proficiency.value_counts()"
   ]
  },
  {
   "cell_type": "code",
   "execution_count": 24,
   "metadata": {},
   "outputs": [
    {
     "data": {
      "text/plain": [
       "i̇ngilizce                              20702\n",
       "english                                 14906\n",
       "türkçe                                  14010\n",
       "turkish                                  8264\n",
       "almanca                                  3755\n",
       "german                                   3108\n",
       "french                                    934\n",
       "spanish                                   842\n",
       "i̇spanyolca                               837\n",
       "fransızca                                 757\n",
       "ingilizce                                 661\n",
       "rusça                                     538\n",
       "russian                                   521\n",
       "arabic                                    520\n",
       "arapça                                    387\n",
       "italian                                   365\n",
       "i̇talyanca                                333\n",
       "i̇ngilizce, orta (1100-1500)              330\n",
       "japanese                                  276\n",
       "deutsch                                   203\n",
       "japonca                                   162\n",
       "i̇ngilizce                                152\n",
       "azerbaijani                               152\n",
       "i̇ngilizce, eski (yaklaşık 450-1100)      126\n",
       "türkçe, osmanlıca (1500-1928)             122\n",
       "Name: language, dtype: int64"
      ]
     },
     "execution_count": 24,
     "metadata": {},
     "output_type": "execute_result"
    }
   ],
   "source": [
    "lang.language.str.lower().value_counts()[:25]"
   ]
  },
  {
   "cell_type": "code",
   "execution_count": 25,
   "metadata": {},
   "outputs": [],
   "source": [
    "mapping_language = {\n",
    "    \"ingilizce\": [\"ingilzice\",\"english\",\"i̇ngilizce, eski (yaklaşık 450-1100)\",\"i̇ngilizce, orta (1100-1500)\"], \n",
    "    \"türkçe\":['türkçe','turkish','türkçe, osmanlıca (1500-1928)'],\n",
    "    \"almanca\":['germany','german','almanca','deutch','deutsch'],\n",
    "    \"fransızca\":['french','fransızca'],\n",
    "    \"ispanyolca\":['spanish','ispanyolca'],\n",
    "    \"rusça\":['russian','rusça'],\n",
    "    \"arapça\":['arapça','arabian','arabic'],\n",
    "    \"italyanca\":['italian','italyanca'],\n",
    "    \"japonca\":['japanese','japonca'],\n",
    "    \"azerice\":['azerbaijani']\n",
    "}"
   ]
  },
  {
   "cell_type": "code",
   "execution_count": 26,
   "metadata": {},
   "outputs": [],
   "source": [
    "def map_lang(lang):\n",
    "    if isinstance(lang, float) and pd.isna(lang):\n",
    "        return lang\n",
    "    lang = re.sub(r'[\\.,;]', '', lang).lower()\n",
    "    for mapped, keywords in mapping_language.items():\n",
    "        for keyword in keywords:\n",
    "            keyword = keyword.lower()\n",
    "            if re.search(r\"\\b\" + keyword + r\"\\b\", lang):\n",
    "                return mapped\n",
    "    return \"diğer\""
   ]
  },
  {
   "cell_type": "code",
   "execution_count": 27,
   "metadata": {},
   "outputs": [
    {
     "data": {
      "text/plain": [
       "diğer         25809\n",
       "türkçe        22512\n",
       "ingilizce     15008\n",
       "almanca        7184\n",
       "fransızca      1709\n",
       "rusça          1066\n",
       "arapça          935\n",
       "ispanyolca      865\n",
       "japonca         442\n",
       "italyanca       380\n",
       "azerice         152\n",
       "Name: language, dtype: int64"
      ]
     },
     "execution_count": 27,
     "metadata": {},
     "output_type": "execute_result"
    }
   ],
   "source": [
    "lang['language'] = lang['language'].apply(map_lang)\n",
    "lang['language'].value_counts()"
   ]
  },
  {
   "cell_type": "code",
   "execution_count": 28,
   "metadata": {},
   "outputs": [
    {
     "data": {
      "text/html": [
       "<div>\n",
       "<style scoped>\n",
       "    .dataframe tbody tr th:only-of-type {\n",
       "        vertical-align: middle;\n",
       "    }\n",
       "\n",
       "    .dataframe tbody tr th {\n",
       "        vertical-align: top;\n",
       "    }\n",
       "\n",
       "    .dataframe thead th {\n",
       "        text-align: right;\n",
       "    }\n",
       "</style>\n",
       "<table border=\"1\" class=\"dataframe\">\n",
       "  <thead>\n",
       "    <tr style=\"text-align: right;\">\n",
       "      <th></th>\n",
       "      <th>user_id</th>\n",
       "      <th>language</th>\n",
       "      <th>proficiency</th>\n",
       "    </tr>\n",
       "  </thead>\n",
       "  <tbody>\n",
       "    <tr>\n",
       "      <th>0</th>\n",
       "      <td>8</td>\n",
       "      <td>diğer</td>\n",
       "      <td>full_professional</td>\n",
       "    </tr>\n",
       "    <tr>\n",
       "      <th>1</th>\n",
       "      <td>8</td>\n",
       "      <td>türkçe</td>\n",
       "      <td>native_or_bilingual</td>\n",
       "    </tr>\n",
       "    <tr>\n",
       "      <th>2</th>\n",
       "      <td>8</td>\n",
       "      <td>fransızca</td>\n",
       "      <td>elementary</td>\n",
       "    </tr>\n",
       "    <tr>\n",
       "      <th>3</th>\n",
       "      <td>10</td>\n",
       "      <td>diğer</td>\n",
       "      <td>NaN</td>\n",
       "    </tr>\n",
       "    <tr>\n",
       "      <th>4</th>\n",
       "      <td>11</td>\n",
       "      <td>türkçe</td>\n",
       "      <td>native_or_bilingual</td>\n",
       "    </tr>\n",
       "  </tbody>\n",
       "</table>\n",
       "</div>"
      ],
      "text/plain": [
       "   user_id   language          proficiency\n",
       "0        8      diğer    full_professional\n",
       "1        8     türkçe  native_or_bilingual\n",
       "2        8  fransızca           elementary\n",
       "3       10      diğer                  NaN\n",
       "4       11     türkçe  native_or_bilingual"
      ]
     },
     "execution_count": 28,
     "metadata": {},
     "output_type": "execute_result"
    }
   ],
   "source": [
    "lang.head()"
   ]
  },
  {
   "cell_type": "code",
   "execution_count": 29,
   "metadata": {},
   "outputs": [
    {
     "data": {
      "text/plain": [
       "user_id         0.000000\n",
       "language        0.000000\n",
       "proficiency    14.016197\n",
       "dtype: float64"
      ]
     },
     "execution_count": 29,
     "metadata": {},
     "output_type": "execute_result"
    }
   ],
   "source": [
    "lang.isnull().sum() / len(lang) * 100"
   ]
  },
  {
   "cell_type": "code",
   "execution_count": 30,
   "metadata": {},
   "outputs": [
    {
     "data": {
      "text/plain": [
       "user_id        0\n",
       "language       0\n",
       "proficiency    0\n",
       "dtype: int64"
      ]
     },
     "execution_count": 30,
     "metadata": {},
     "output_type": "execute_result"
    }
   ],
   "source": [
    "most_frequent = lang['proficiency'].mode()[0]\n",
    "lang['proficiency'].fillna(value=most_frequent, inplace=True)\n",
    "lang.isnull().sum()"
   ]
  },
  {
   "cell_type": "code",
   "execution_count": 31,
   "metadata": {},
   "outputs": [
    {
     "data": {
      "text/html": [
       "<div>\n",
       "<style scoped>\n",
       "    .dataframe tbody tr th:only-of-type {\n",
       "        vertical-align: middle;\n",
       "    }\n",
       "\n",
       "    .dataframe tbody tr th {\n",
       "        vertical-align: top;\n",
       "    }\n",
       "\n",
       "    .dataframe thead th {\n",
       "        text-align: right;\n",
       "    }\n",
       "</style>\n",
       "<table border=\"1\" class=\"dataframe\">\n",
       "  <thead>\n",
       "    <tr style=\"text-align: right;\">\n",
       "      <th></th>\n",
       "      <th>user_id</th>\n",
       "      <th>language</th>\n",
       "      <th>proficiency</th>\n",
       "    </tr>\n",
       "  </thead>\n",
       "  <tbody>\n",
       "    <tr>\n",
       "      <th>0</th>\n",
       "      <td>8</td>\n",
       "      <td>diğer</td>\n",
       "      <td>full_professional</td>\n",
       "    </tr>\n",
       "    <tr>\n",
       "      <th>1</th>\n",
       "      <td>8</td>\n",
       "      <td>türkçe</td>\n",
       "      <td>native_or_bilingual</td>\n",
       "    </tr>\n",
       "    <tr>\n",
       "      <th>2</th>\n",
       "      <td>8</td>\n",
       "      <td>fransızca</td>\n",
       "      <td>elementary</td>\n",
       "    </tr>\n",
       "    <tr>\n",
       "      <th>3</th>\n",
       "      <td>10</td>\n",
       "      <td>diğer</td>\n",
       "      <td>native_or_bilingual</td>\n",
       "    </tr>\n",
       "    <tr>\n",
       "      <th>4</th>\n",
       "      <td>11</td>\n",
       "      <td>türkçe</td>\n",
       "      <td>native_or_bilingual</td>\n",
       "    </tr>\n",
       "  </tbody>\n",
       "</table>\n",
       "</div>"
      ],
      "text/plain": [
       "   user_id   language          proficiency\n",
       "0        8      diğer    full_professional\n",
       "1        8     türkçe  native_or_bilingual\n",
       "2        8  fransızca           elementary\n",
       "3       10      diğer  native_or_bilingual\n",
       "4       11     türkçe  native_or_bilingual"
      ]
     },
     "execution_count": 31,
     "metadata": {},
     "output_type": "execute_result"
    }
   ],
   "source": [
    "lang.head()"
   ]
  },
  {
   "cell_type": "code",
   "execution_count": 32,
   "metadata": {},
   "outputs": [
    {
     "data": {
      "text/html": [
       "<div>\n",
       "<style scoped>\n",
       "    .dataframe tbody tr th:only-of-type {\n",
       "        vertical-align: middle;\n",
       "    }\n",
       "\n",
       "    .dataframe tbody tr th {\n",
       "        vertical-align: top;\n",
       "    }\n",
       "\n",
       "    .dataframe thead th {\n",
       "        text-align: right;\n",
       "    }\n",
       "</style>\n",
       "<table border=\"1\" class=\"dataframe\">\n",
       "  <thead>\n",
       "    <tr style=\"text-align: right;\">\n",
       "      <th></th>\n",
       "      <th>user_id</th>\n",
       "      <th>language</th>\n",
       "      <th>proficiency</th>\n",
       "    </tr>\n",
       "  </thead>\n",
       "  <tbody>\n",
       "    <tr>\n",
       "      <th>0</th>\n",
       "      <td>8</td>\n",
       "      <td>diğer türkçe fransızca</td>\n",
       "      <td>full_professional native_or_bilingual elementary</td>\n",
       "    </tr>\n",
       "    <tr>\n",
       "      <th>1</th>\n",
       "      <td>10</td>\n",
       "      <td>diğer</td>\n",
       "      <td>native_or_bilingual</td>\n",
       "    </tr>\n",
       "    <tr>\n",
       "      <th>2</th>\n",
       "      <td>11</td>\n",
       "      <td>türkçe ingilizce diğer</td>\n",
       "      <td>native_or_bilingual professional_working nativ...</td>\n",
       "    </tr>\n",
       "    <tr>\n",
       "      <th>3</th>\n",
       "      <td>12</td>\n",
       "      <td>türkçe ingilizce</td>\n",
       "      <td>native_or_bilingual professional_working</td>\n",
       "    </tr>\n",
       "    <tr>\n",
       "      <th>4</th>\n",
       "      <td>13</td>\n",
       "      <td>diğer almanca</td>\n",
       "      <td>full_professional limited_working</td>\n",
       "    </tr>\n",
       "    <tr>\n",
       "      <th>...</th>\n",
       "      <td>...</td>\n",
       "      <td>...</td>\n",
       "      <td>...</td>\n",
       "    </tr>\n",
       "    <tr>\n",
       "      <th>37285</th>\n",
       "      <td>66265</td>\n",
       "      <td>ingilizce</td>\n",
       "      <td>native_or_bilingual</td>\n",
       "    </tr>\n",
       "    <tr>\n",
       "      <th>37286</th>\n",
       "      <td>66269</td>\n",
       "      <td>ingilizce</td>\n",
       "      <td>native_or_bilingual</td>\n",
       "    </tr>\n",
       "    <tr>\n",
       "      <th>37287</th>\n",
       "      <td>66271</td>\n",
       "      <td>ingilizce</td>\n",
       "      <td>native_or_bilingual</td>\n",
       "    </tr>\n",
       "    <tr>\n",
       "      <th>37288</th>\n",
       "      <td>66272</td>\n",
       "      <td>ingilizce</td>\n",
       "      <td>professional_working</td>\n",
       "    </tr>\n",
       "    <tr>\n",
       "      <th>37289</th>\n",
       "      <td>66273</td>\n",
       "      <td>türkçe diğer almanca</td>\n",
       "      <td>native_or_bilingual professional_working eleme...</td>\n",
       "    </tr>\n",
       "  </tbody>\n",
       "</table>\n",
       "<p>37290 rows × 3 columns</p>\n",
       "</div>"
      ],
      "text/plain": [
       "       user_id                language  \\\n",
       "0            8  diğer türkçe fransızca   \n",
       "1           10                   diğer   \n",
       "2           11  türkçe ingilizce diğer   \n",
       "3           12        türkçe ingilizce   \n",
       "4           13           diğer almanca   \n",
       "...        ...                     ...   \n",
       "37285    66265               ingilizce   \n",
       "37286    66269               ingilizce   \n",
       "37287    66271               ingilizce   \n",
       "37288    66272               ingilizce   \n",
       "37289    66273    türkçe diğer almanca   \n",
       "\n",
       "                                             proficiency  \n",
       "0       full_professional native_or_bilingual elementary  \n",
       "1                                    native_or_bilingual  \n",
       "2      native_or_bilingual professional_working nativ...  \n",
       "3               native_or_bilingual professional_working  \n",
       "4                      full_professional limited_working  \n",
       "...                                                  ...  \n",
       "37285                                native_or_bilingual  \n",
       "37286                                native_or_bilingual  \n",
       "37287                                native_or_bilingual  \n",
       "37288                               professional_working  \n",
       "37289  native_or_bilingual professional_working eleme...  \n",
       "\n",
       "[37290 rows x 3 columns]"
      ]
     },
     "execution_count": 32,
     "metadata": {},
     "output_type": "execute_result"
    }
   ],
   "source": [
    "languages = lang.groupby('user_id')[\"language\"].apply(\" \".join).reset_index()\n",
    "proficiencies = lang.groupby('user_id')[\"proficiency\"].apply(\" \".join).reset_index()\n",
    "lang1 = pd.merge(languages, proficiencies, on='user_id', how='left')\n",
    "lang1.reset_index(drop=True)\n",
    "lang1"
   ]
  },
  {
   "cell_type": "code",
   "execution_count": 33,
   "metadata": {},
   "outputs": [],
   "source": [
    "lang1.to_csv(\"../exported_datasets/lang.csv\", index=False)"
   ]
  },
  {
   "attachments": {},
   "cell_type": "markdown",
   "metadata": {},
   "source": [
    "<hr>"
   ]
  },
  {
   "attachments": {},
   "cell_type": "markdown",
   "metadata": {},
   "source": [
    "#### Skills Exploring"
   ]
  },
  {
   "cell_type": "code",
   "execution_count": 34,
   "metadata": {},
   "outputs": [
    {
     "data": {
      "text/html": [
       "<div>\n",
       "<style scoped>\n",
       "    .dataframe tbody tr th:only-of-type {\n",
       "        vertical-align: middle;\n",
       "    }\n",
       "\n",
       "    .dataframe tbody tr th {\n",
       "        vertical-align: top;\n",
       "    }\n",
       "\n",
       "    .dataframe thead th {\n",
       "        text-align: right;\n",
       "    }\n",
       "</style>\n",
       "<table border=\"1\" class=\"dataframe\">\n",
       "  <thead>\n",
       "    <tr style=\"text-align: right;\">\n",
       "      <th></th>\n",
       "      <th>user_id</th>\n",
       "      <th>skill</th>\n",
       "    </tr>\n",
       "  </thead>\n",
       "  <tbody>\n",
       "    <tr>\n",
       "      <th>0</th>\n",
       "      <td>1</td>\n",
       "      <td>Mühendislik</td>\n",
       "    </tr>\n",
       "    <tr>\n",
       "      <th>1</th>\n",
       "      <td>1</td>\n",
       "      <td>Eğitim</td>\n",
       "    </tr>\n",
       "    <tr>\n",
       "      <th>2</th>\n",
       "      <td>2</td>\n",
       "      <td>Android</td>\n",
       "    </tr>\n",
       "    <tr>\n",
       "      <th>3</th>\n",
       "      <td>2</td>\n",
       "      <td>Java</td>\n",
       "    </tr>\n",
       "    <tr>\n",
       "      <th>4</th>\n",
       "      <td>2</td>\n",
       "      <td>3D Studio Max</td>\n",
       "    </tr>\n",
       "  </tbody>\n",
       "</table>\n",
       "</div>"
      ],
      "text/plain": [
       "   user_id          skill\n",
       "0        1    Mühendislik\n",
       "1        1         Eğitim\n",
       "2        2        Android\n",
       "3        2           Java\n",
       "4        2  3D Studio Max"
      ]
     },
     "execution_count": 34,
     "metadata": {},
     "output_type": "execute_result"
    }
   ],
   "source": [
    "skills.sort_values(by='user_id').head()"
   ]
  },
  {
   "cell_type": "code",
   "execution_count": 35,
   "metadata": {},
   "outputs": [
    {
     "data": {
      "text/plain": [
       "user_id    0\n",
       "skill      0\n",
       "dtype: int64"
      ]
     },
     "execution_count": 35,
     "metadata": {},
     "output_type": "execute_result"
    }
   ],
   "source": [
    "skills.isnull().sum()"
   ]
  },
  {
   "cell_type": "code",
   "execution_count": 36,
   "metadata": {},
   "outputs": [
    {
     "data": {
      "text/html": [
       "<div>\n",
       "<style scoped>\n",
       "    .dataframe tbody tr th:only-of-type {\n",
       "        vertical-align: middle;\n",
       "    }\n",
       "\n",
       "    .dataframe tbody tr th {\n",
       "        vertical-align: top;\n",
       "    }\n",
       "\n",
       "    .dataframe thead th {\n",
       "        text-align: right;\n",
       "    }\n",
       "</style>\n",
       "<table border=\"1\" class=\"dataframe\">\n",
       "  <thead>\n",
       "    <tr style=\"text-align: right;\">\n",
       "      <th></th>\n",
       "      <th>user_id</th>\n",
       "      <th>skill</th>\n",
       "    </tr>\n",
       "  </thead>\n",
       "  <tbody>\n",
       "    <tr>\n",
       "      <th>0</th>\n",
       "      <td>1</td>\n",
       "      <td>Mühendislik Eğitim</td>\n",
       "    </tr>\n",
       "    <tr>\n",
       "      <th>1</th>\n",
       "      <td>2</td>\n",
       "      <td>Android Java 3D_Studio_Max Müşteri_Hizmetleri ...</td>\n",
       "    </tr>\n",
       "    <tr>\n",
       "      <th>2</th>\n",
       "      <td>3</td>\n",
       "      <td>Mühendislik Programlama Algoritma_Tasarımı</td>\n",
       "    </tr>\n",
       "    <tr>\n",
       "      <th>3</th>\n",
       "      <td>5</td>\n",
       "      <td>Oyun_Tasarımı Veritabanı_Yönetimi Veri_Bilimi ...</td>\n",
       "    </tr>\n",
       "    <tr>\n",
       "      <th>4</th>\n",
       "      <td>6</td>\n",
       "      <td>Liderlik Ekip_Liderliği Mühendislik Eğitim İle...</td>\n",
       "    </tr>\n",
       "    <tr>\n",
       "      <th>...</th>\n",
       "      <td>...</td>\n",
       "      <td>...</td>\n",
       "    </tr>\n",
       "    <tr>\n",
       "      <th>62397</th>\n",
       "      <td>66269</td>\n",
       "      <td>Cloud_Computing Strategic_Partnerships Enterpr...</td>\n",
       "    </tr>\n",
       "    <tr>\n",
       "      <th>62398</th>\n",
       "      <td>66270</td>\n",
       "      <td>PMP Stratejik_Yönetim Stratejik_Bilişim_Yöneti...</td>\n",
       "    </tr>\n",
       "    <tr>\n",
       "      <th>62399</th>\n",
       "      <td>66271</td>\n",
       "      <td>Software_Development ASP.NET C# Programming E-...</td>\n",
       "    </tr>\n",
       "    <tr>\n",
       "      <th>62400</th>\n",
       "      <td>66272</td>\n",
       "      <td>Java Tomcat MySQL Software_Development Softwar...</td>\n",
       "    </tr>\n",
       "    <tr>\n",
       "      <th>62401</th>\n",
       "      <td>66273</td>\n",
       "      <td>Python Docker Kubernetes Linux_Sistem_Yönetimi...</td>\n",
       "    </tr>\n",
       "  </tbody>\n",
       "</table>\n",
       "<p>62402 rows × 2 columns</p>\n",
       "</div>"
      ],
      "text/plain": [
       "       user_id                                              skill\n",
       "0            1                                 Mühendislik Eğitim\n",
       "1            2  Android Java 3D_Studio_Max Müşteri_Hizmetleri ...\n",
       "2            3         Mühendislik Programlama Algoritma_Tasarımı\n",
       "3            5  Oyun_Tasarımı Veritabanı_Yönetimi Veri_Bilimi ...\n",
       "4            6  Liderlik Ekip_Liderliği Mühendislik Eğitim İle...\n",
       "...        ...                                                ...\n",
       "62397    66269  Cloud_Computing Strategic_Partnerships Enterpr...\n",
       "62398    66270  PMP Stratejik_Yönetim Stratejik_Bilişim_Yöneti...\n",
       "62399    66271  Software_Development ASP.NET C# Programming E-...\n",
       "62400    66272  Java Tomcat MySQL Software_Development Softwar...\n",
       "62401    66273  Python Docker Kubernetes Linux_Sistem_Yönetimi...\n",
       "\n",
       "[62402 rows x 2 columns]"
      ]
     },
     "execution_count": 36,
     "metadata": {},
     "output_type": "execute_result"
    }
   ],
   "source": [
    "skills['skill'] = skills['skill'].str.replace(' ','_')\n",
    "skills = skills.groupby('user_id')[\"skill\"].apply(\" \".join).reset_index()\n",
    "skills"
   ]
  },
  {
   "cell_type": "code",
   "execution_count": 37,
   "metadata": {},
   "outputs": [],
   "source": [
    "skills.to_csv('../exported_datasets/skills.csv', index=False)"
   ]
  },
  {
   "attachments": {},
   "cell_type": "markdown",
   "metadata": {},
   "source": [
    "<hr>"
   ]
  },
  {
   "attachments": {},
   "cell_type": "markdown",
   "metadata": {},
   "source": [
    "#### Experiment Exploring"
   ]
  },
  {
   "cell_type": "code",
   "execution_count": 38,
   "metadata": {},
   "outputs": [
    {
     "data": {
      "text/html": [
       "<div>\n",
       "<style scoped>\n",
       "    .dataframe tbody tr th:only-of-type {\n",
       "        vertical-align: middle;\n",
       "    }\n",
       "\n",
       "    .dataframe tbody tr th {\n",
       "        vertical-align: top;\n",
       "    }\n",
       "\n",
       "    .dataframe thead th {\n",
       "        text-align: right;\n",
       "    }\n",
       "</style>\n",
       "<table border=\"1\" class=\"dataframe\">\n",
       "  <thead>\n",
       "    <tr style=\"text-align: right;\">\n",
       "      <th></th>\n",
       "      <th>user_id</th>\n",
       "      <th>company_id</th>\n",
       "      <th>location</th>\n",
       "      <th>start_year_month</th>\n",
       "    </tr>\n",
       "  </thead>\n",
       "  <tbody>\n",
       "    <tr>\n",
       "      <th>147720</th>\n",
       "      <td>0</td>\n",
       "      <td>0</td>\n",
       "      <td>Serbest Çalışmalar</td>\n",
       "      <td>200509</td>\n",
       "    </tr>\n",
       "    <tr>\n",
       "      <th>174454</th>\n",
       "      <td>0</td>\n",
       "      <td>0</td>\n",
       "      <td>Visual Studio Asp.Net Developer</td>\n",
       "      <td>200509</td>\n",
       "    </tr>\n",
       "    <tr>\n",
       "      <th>180157</th>\n",
       "      <td>2</td>\n",
       "      <td>10</td>\n",
       "      <td>Mersin, Turkey</td>\n",
       "      <td>201806</td>\n",
       "    </tr>\n",
       "    <tr>\n",
       "      <th>19762</th>\n",
       "      <td>2</td>\n",
       "      <td>7</td>\n",
       "      <td>Elazig, Turkey</td>\n",
       "      <td>201706</td>\n",
       "    </tr>\n",
       "    <tr>\n",
       "      <th>760</th>\n",
       "      <td>2</td>\n",
       "      <td>9</td>\n",
       "      <td>Elazig, Turkey</td>\n",
       "      <td>201612</td>\n",
       "    </tr>\n",
       "  </tbody>\n",
       "</table>\n",
       "</div>"
      ],
      "text/plain": [
       "        user_id  company_id                         location  start_year_month\n",
       "147720        0           0               Serbest Çalışmalar            200509\n",
       "174454        0           0  Visual Studio Asp.Net Developer            200509\n",
       "180157        2          10                   Mersin, Turkey            201806\n",
       "19762         2           7                   Elazig, Turkey            201706\n",
       "760           2           9                   Elazig, Turkey            201612"
      ]
     },
     "execution_count": 38,
     "metadata": {},
     "output_type": "execute_result"
    }
   ],
   "source": [
    "exp.sort_values(by='user_id').head()"
   ]
  },
  {
   "cell_type": "code",
   "execution_count": 39,
   "metadata": {},
   "outputs": [
    {
     "data": {
      "text/plain": [
       "istanbul, turkey                   44787\n",
       "ankara, turkey                     14216\n",
       "i̇stanbul, türkiye                 13176\n",
       "ankara, türkiye                     4556\n",
       "izmir, turkey                       4286\n",
       "kocaeli, turkey                     2420\n",
       "i̇stanbul                           1917\n",
       "i̇zmir, türkiye                     1640\n",
       "turkey                              1570\n",
       "ankara                              1300\n",
       "kocaeli, türkiye                    1124\n",
       "bursa, turkey                       1013\n",
       "eskisehir, turkey                    915\n",
       "türkiye                              868\n",
       "sakarya, turkey                      805\n",
       "istanbul                             768\n",
       "manisa, turkey                       678\n",
       "antalya, turkey                      663\n",
       "i̇zmir                               632\n",
       "kayseri, turkey                      479\n",
       "adana, turkey                        469\n",
       "eskişehir, türkiye                   388\n",
       "konya, turkey                        374\n",
       "gebze                                356\n",
       "bursa, türkiye                       326\n",
       "antalya, türkiye                     291\n",
       "manisa, türkiye                      285\n",
       "sakarya, türkiye                     283\n",
       "trabzon, turkey                      266\n",
       "i̇zmir, turkey                       259\n",
       "konya, türkiye                       232\n",
       "tekirdag, turkey                     231\n",
       "mersin, turkey                       207\n",
       "adana, türkiye                       204\n",
       "kayseri, türkiye                     198\n",
       "i̇stanbul province                   183\n",
       "mugla, turkey                        181\n",
       "remote                               154\n",
       "maslak mah., i̇stanbul, türkiye      145\n",
       "elazig, turkey                       145\n",
       "maslak                               143\n",
       "gebze, kocaeli, turkey               130\n",
       "denizli, turkey                      126\n",
       "gebze, kocaeli, türkiye              126\n",
       "stajyer                              124\n",
       "bursa                                122\n",
       "united states                        120\n",
       "isparta, turkey                      119\n",
       "i̇stanbul, turkey                    114\n",
       "samsun, turkey                       113\n",
       "Name: location, dtype: int64"
      ]
     },
     "execution_count": 39,
     "metadata": {},
     "output_type": "execute_result"
    }
   ],
   "source": [
    "exp['location'] = exp['location'].str.lower()\n",
    "exp['location'].value_counts()[:50]"
   ]
  },
  {
   "cell_type": "code",
   "execution_count": 40,
   "metadata": {},
   "outputs": [],
   "source": [
    "mapping_loc={\n",
    "    \"istanbul\":[\"istanbul\", \"istanbul, turkey\", \"ümraniye\",\n",
    "                \"maslak\",\"ümraniye, istanbul, türkiye\", \"beşiktaş\",\n",
    "                \"ataşehir, istanbul, türkiye\"],\n",
    "    \"ankara\":[\"ankara\", \"çankaya, ankara, türkiye\"],\n",
    "    \"izmir\":[\"izmir\", \"izmir, türkiye\", \"izmir, turkey\"],\n",
    "    \"kocaeli\":[\"kocaeli\", \"gebze, kocaeli\"],\n",
    "    \"bursa\":[\"bursa\"],\n",
    "    \"eskisehir\":[\"eskisehir\", \"eskişehir\"],\n",
    "    \"sakarya\":[\"sakarya\"],\n",
    "    \"antalya\":[\"antalya\"],\n",
    "    \"manisa\":[\"manisa\"],\n",
    "    \"kayseri\":[\"kayseri\"],\n",
    "    \"adana\":[\"adana\"],\n",
    "    \"konya\":[\"konya\"],\n",
    "    \"trabzon\":[\"trabzon\"],\n",
    "    \"mersin\":[\"mersin\"],\n",
    "    \"tekirdağ\":[\"tekirdağ\", \"tekirdağ, türkiye\"],\n",
    "    \"mugla\":[\"mugla\"],\n",
    "    \"denizli\":[\"denizli\"],\n",
    "    \"samsun\":[\"samsun\"],\n",
    "    \"elazig\":[\"elazig\", \"elazığ, türkiye\"],\n",
    "    \"US\":[\"us\"],\n",
    "    \"isparta\":[\"isparta, turkey\"],\n",
    "    \"gaziantep\":[\"gaziantep, turkey\"],\n",
    "    \"edirne\":[\"edirne, turkey\"],\n",
    "    \"sivas\":[\"sivas, turkey\"],\n",
    "    \"kahramanmaras\":[\"kahramanmaras, turkey\"]\n",
    "}"
   ]
  },
  {
   "cell_type": "code",
   "execution_count": 41,
   "metadata": {},
   "outputs": [],
   "source": [
    "def map_city(city):\n",
    "    if isinstance(city,float) and pd.isna(city):\n",
    "        return city\n",
    "    city = city.lower()\n",
    "    for mapped, keywords in mapping_loc.items():\n",
    "        for keyword in keywords:\n",
    "            keyword = keyword.lower()\n",
    "            if re.search(r'\\b' + keyword + r'\\b', city):\n",
    "                return mapped\n",
    "    return 'Diğer'"
   ]
  },
  {
   "cell_type": "code",
   "execution_count": 42,
   "metadata": {},
   "outputs": [
    {
     "data": {
      "text/plain": [
       "istanbul         47814\n",
       "Diğer            37339\n",
       "ankara           20869\n",
       "izmir             4456\n",
       "kocaeli           4456\n",
       "bursa             1529\n",
       "eskisehir         1505\n",
       "sakarya           1195\n",
       "antalya           1039\n",
       "manisa            1032\n",
       "kayseri            744\n",
       "adana              732\n",
       "konya              687\n",
       "trabzon            368\n",
       "mersin             311\n",
       "elazig             223\n",
       "tekirdağ           198\n",
       "denizli            187\n",
       "mugla              183\n",
       "samsun             178\n",
       "isparta            119\n",
       "gaziantep          112\n",
       "edirne             111\n",
       "sivas              109\n",
       "kahramanmaras       92\n",
       "US                  17\n",
       "Name: location, dtype: int64"
      ]
     },
     "execution_count": 42,
     "metadata": {},
     "output_type": "execute_result"
    }
   ],
   "source": [
    "exp['location'] = exp['location'].apply(map_city)\n",
    "exp['location'].value_counts()"
   ]
  },
  {
   "cell_type": "code",
   "execution_count": 43,
   "metadata": {},
   "outputs": [
    {
     "data": {
      "text/plain": [
       "user_id              0.000000\n",
       "company_id           0.000000\n",
       "location            32.838375\n",
       "start_year_month     0.000000\n",
       "dtype: float64"
      ]
     },
     "execution_count": 43,
     "metadata": {},
     "output_type": "execute_result"
    }
   ],
   "source": [
    "exp.isnull().sum() / len(exp) *100"
   ]
  },
  {
   "cell_type": "code",
   "execution_count": 44,
   "metadata": {},
   "outputs": [
    {
     "data": {
      "text/plain": [
       "user_id             0\n",
       "company_id          0\n",
       "location            0\n",
       "start_year_month    0\n",
       "dtype: int64"
      ]
     },
     "execution_count": 44,
     "metadata": {},
     "output_type": "execute_result"
    }
   ],
   "source": [
    "exp['location'].fillna(\"diğer\", inplace=True)\n",
    "exp.isnull().sum()"
   ]
  },
  {
   "cell_type": "code",
   "execution_count": 45,
   "metadata": {},
   "outputs": [
    {
     "data": {
      "text/html": [
       "<div>\n",
       "<style scoped>\n",
       "    .dataframe tbody tr th:only-of-type {\n",
       "        vertical-align: middle;\n",
       "    }\n",
       "\n",
       "    .dataframe tbody tr th {\n",
       "        vertical-align: top;\n",
       "    }\n",
       "\n",
       "    .dataframe thead th {\n",
       "        text-align: right;\n",
       "    }\n",
       "</style>\n",
       "<table border=\"1\" class=\"dataframe\">\n",
       "  <thead>\n",
       "    <tr style=\"text-align: right;\">\n",
       "      <th></th>\n",
       "      <th>user_id</th>\n",
       "      <th>company_id</th>\n",
       "      <th>location</th>\n",
       "      <th>start_year_month</th>\n",
       "    </tr>\n",
       "  </thead>\n",
       "  <tbody>\n",
       "    <tr>\n",
       "      <th>0</th>\n",
       "      <td>53442</td>\n",
       "      <td>2651</td>\n",
       "      <td>istanbul</td>\n",
       "      <td>201509</td>\n",
       "    </tr>\n",
       "    <tr>\n",
       "      <th>1</th>\n",
       "      <td>34558</td>\n",
       "      <td>815</td>\n",
       "      <td>istanbul</td>\n",
       "      <td>201210</td>\n",
       "    </tr>\n",
       "    <tr>\n",
       "      <th>2</th>\n",
       "      <td>63761</td>\n",
       "      <td>26354</td>\n",
       "      <td>diğer</td>\n",
       "      <td>200010</td>\n",
       "    </tr>\n",
       "    <tr>\n",
       "      <th>3</th>\n",
       "      <td>10738</td>\n",
       "      <td>89</td>\n",
       "      <td>diğer</td>\n",
       "      <td>201610</td>\n",
       "    </tr>\n",
       "    <tr>\n",
       "      <th>4</th>\n",
       "      <td>8711</td>\n",
       "      <td>3113</td>\n",
       "      <td>istanbul</td>\n",
       "      <td>201801</td>\n",
       "    </tr>\n",
       "  </tbody>\n",
       "</table>\n",
       "</div>"
      ],
      "text/plain": [
       "   user_id  company_id  location  start_year_month\n",
       "0    53442        2651  istanbul            201509\n",
       "1    34558         815  istanbul            201210\n",
       "2    63761       26354     diğer            200010\n",
       "3    10738          89     diğer            201610\n",
       "4     8711        3113  istanbul            201801"
      ]
     },
     "execution_count": 45,
     "metadata": {},
     "output_type": "execute_result"
    }
   ],
   "source": [
    "exp.head()"
   ]
  },
  {
   "cell_type": "code",
   "execution_count": 46,
   "metadata": {},
   "outputs": [
    {
     "data": {
      "text/html": [
       "<div>\n",
       "<style scoped>\n",
       "    .dataframe tbody tr th:only-of-type {\n",
       "        vertical-align: middle;\n",
       "    }\n",
       "\n",
       "    .dataframe tbody tr th {\n",
       "        vertical-align: top;\n",
       "    }\n",
       "\n",
       "    .dataframe thead th {\n",
       "        text-align: right;\n",
       "    }\n",
       "</style>\n",
       "<table border=\"1\" class=\"dataframe\">\n",
       "  <thead>\n",
       "    <tr style=\"text-align: right;\">\n",
       "      <th></th>\n",
       "      <th>user_id</th>\n",
       "      <th>company_id</th>\n",
       "      <th>location</th>\n",
       "      <th>start_year_month</th>\n",
       "    </tr>\n",
       "  </thead>\n",
       "  <tbody>\n",
       "    <tr>\n",
       "      <th>0</th>\n",
       "      <td>53442</td>\n",
       "      <td>2651</td>\n",
       "      <td>istanbul</td>\n",
       "      <td>2015-09-01</td>\n",
       "    </tr>\n",
       "    <tr>\n",
       "      <th>1</th>\n",
       "      <td>34558</td>\n",
       "      <td>815</td>\n",
       "      <td>istanbul</td>\n",
       "      <td>2012-10-01</td>\n",
       "    </tr>\n",
       "    <tr>\n",
       "      <th>2</th>\n",
       "      <td>63761</td>\n",
       "      <td>26354</td>\n",
       "      <td>diğer</td>\n",
       "      <td>2000-10-01</td>\n",
       "    </tr>\n",
       "    <tr>\n",
       "      <th>3</th>\n",
       "      <td>10738</td>\n",
       "      <td>89</td>\n",
       "      <td>diğer</td>\n",
       "      <td>2016-10-01</td>\n",
       "    </tr>\n",
       "    <tr>\n",
       "      <th>4</th>\n",
       "      <td>8711</td>\n",
       "      <td>3113</td>\n",
       "      <td>istanbul</td>\n",
       "      <td>2018-01-01</td>\n",
       "    </tr>\n",
       "  </tbody>\n",
       "</table>\n",
       "</div>"
      ],
      "text/plain": [
       "   user_id  company_id  location start_year_month\n",
       "0    53442        2651  istanbul       2015-09-01\n",
       "1    34558         815  istanbul       2012-10-01\n",
       "2    63761       26354     diğer       2000-10-01\n",
       "3    10738          89     diğer       2016-10-01\n",
       "4     8711        3113  istanbul       2018-01-01"
      ]
     },
     "execution_count": 46,
     "metadata": {},
     "output_type": "execute_result"
    }
   ],
   "source": [
    "exp['start_year_month'] = pd.to_datetime(exp['start_year_month'], format=\"%Y%m\")\n",
    "exp.head()"
   ]
  },
  {
   "cell_type": "code",
   "execution_count": 47,
   "metadata": {},
   "outputs": [],
   "source": [
    "exp.to_csv(\"../exported_datasets/exp.csv\", index=False)"
   ]
  },
  {
   "attachments": {},
   "cell_type": "markdown",
   "metadata": {},
   "source": [
    "<hr>"
   ]
  },
  {
   "cell_type": "code",
   "execution_count": 48,
   "metadata": {},
   "outputs": [
    {
     "data": {
      "text/html": [
       "<div>\n",
       "<style scoped>\n",
       "    .dataframe tbody tr th:only-of-type {\n",
       "        vertical-align: middle;\n",
       "    }\n",
       "\n",
       "    .dataframe tbody tr th {\n",
       "        vertical-align: top;\n",
       "    }\n",
       "\n",
       "    .dataframe thead th {\n",
       "        text-align: right;\n",
       "    }\n",
       "</style>\n",
       "<table border=\"1\" class=\"dataframe\">\n",
       "  <thead>\n",
       "    <tr style=\"text-align: right;\">\n",
       "      <th></th>\n",
       "      <th>user_id</th>\n",
       "      <th>industry</th>\n",
       "      <th>location</th>\n",
       "      <th>moved_after_2019</th>\n",
       "    </tr>\n",
       "  </thead>\n",
       "  <tbody>\n",
       "    <tr>\n",
       "      <th>0</th>\n",
       "      <td>1301</td>\n",
       "      <td>Information Technology and Services</td>\n",
       "      <td>Istanbul, Istanbul, Turkey</td>\n",
       "      <td>1</td>\n",
       "    </tr>\n",
       "    <tr>\n",
       "      <th>1</th>\n",
       "      <td>6950</td>\n",
       "      <td>Internet</td>\n",
       "      <td>Istanbul, Istanbul, Turkey</td>\n",
       "      <td>0</td>\n",
       "    </tr>\n",
       "    <tr>\n",
       "      <th>2</th>\n",
       "      <td>4880</td>\n",
       "      <td>Online Media</td>\n",
       "      <td>Turkey</td>\n",
       "      <td>0</td>\n",
       "    </tr>\n",
       "    <tr>\n",
       "      <th>3</th>\n",
       "      <td>26046</td>\n",
       "      <td>Telecommunications</td>\n",
       "      <td>Istanbul, Istanbul, Turkey</td>\n",
       "      <td>0</td>\n",
       "    </tr>\n",
       "    <tr>\n",
       "      <th>4</th>\n",
       "      <td>11005</td>\n",
       "      <td>Banking</td>\n",
       "      <td>Istanbul, Turkey</td>\n",
       "      <td>0</td>\n",
       "    </tr>\n",
       "  </tbody>\n",
       "</table>\n",
       "</div>"
      ],
      "text/plain": [
       "   user_id                             industry                    location  \\\n",
       "0     1301  Information Technology and Services  Istanbul, Istanbul, Turkey   \n",
       "1     6950                             Internet  Istanbul, Istanbul, Turkey   \n",
       "2     4880                         Online Media                      Turkey   \n",
       "3    26046                   Telecommunications  Istanbul, Istanbul, Turkey   \n",
       "4    11005                              Banking            Istanbul, Turkey   \n",
       "\n",
       "   moved_after_2019  \n",
       "0                 1  \n",
       "1                 0  \n",
       "2                 0  \n",
       "3                 0  \n",
       "4                 0  "
      ]
     },
     "execution_count": 48,
     "metadata": {},
     "output_type": "execute_result"
    }
   ],
   "source": [
    "train.head()"
   ]
  },
  {
   "cell_type": "code",
   "execution_count": 50,
   "metadata": {},
   "outputs": [
    {
     "data": {
      "text/plain": [
       "istanbul, istanbul, turkey        14835\n",
       "turkey                            10922\n",
       "istanbul, turkey                   9615\n",
       "ankara, turkey                     3736\n",
       "ankara, ankara, turkey             3418\n",
       "i̇zmir, turkey                     1526\n",
       "kadikoy, istanbul, turkey           486\n",
       "pendik, istanbul, turkey            319\n",
       "antalya, turkey                     295\n",
       "maltepe, istanbul, turkey           287\n",
       "üsküdar, istanbul, turkey           284\n",
       "kocaeli, turkey                     267\n",
       "cankaya, ankara, turkey             246\n",
       "adana, turkey                       243\n",
       "besiktas, istanbul, turkey          230\n",
       "kayseri, turkey                     228\n",
       "sariyer, istanbul, turkey           224\n",
       "eskişehir, turkey                   223\n",
       "bursa, turkey                       219\n",
       "atasehir, istanbul, turkey          219\n",
       "kartal, istanbul, turkey            218\n",
       "sisli, istanbul, turkey             214\n",
       "umraniye, istanbul, turkey          200\n",
       "konya, turkey                       188\n",
       "sakarya, turkey                     144\n",
       "manisa, turkey                      135\n",
       "kagithane, istanbul, turkey         115\n",
       "bornova, i̇zmir, turkey             107\n",
       "i̇zmir, i̇zmir, turkey              102\n",
       "izmit, kocaeli, turkey              100\n",
       "gebze, kocaeli, turkey               95\n",
       "bakirkoy, istanbul, turkey           90\n",
       "tuzla, istanbul, turkey              89\n",
       "yenimahalle, ankara, turkey          88\n",
       "bahçelievler, istanbul, turkey       87\n",
       "beylikduzu, istanbul, turkey         83\n",
       "muğla, turkey                        75\n",
       "altindag, ankara, turkey             74\n",
       "serdivan, sakarya, turkey            67\n",
       "samsun, turkey                       67\n",
       "avcilar, istanbul, turkey            56\n",
       "kucukcekmece, istanbul, turkey       55\n",
       "greater istanbul                     55\n",
       "aydın, turkey                        53\n",
       "denizli, turkey                      50\n",
       "sancaktepe, istanbul, turkey         45\n",
       "beykoz, istanbul, turkey             45\n",
       "fatih, istanbul, turkey              44\n",
       "zeytinburnu, istanbul, turkey        43\n",
       "mersin, i̇çel, turkey                42\n",
       "Name: location, dtype: int64"
      ]
     },
     "execution_count": 50,
     "metadata": {},
     "output_type": "execute_result"
    }
   ],
   "source": [
    "train['location'] = train['location'].str.lower()\n",
    "train['location'].value_counts()[:50]"
   ]
  },
  {
   "cell_type": "code",
   "execution_count": 54,
   "metadata": {},
   "outputs": [],
   "source": [
    "mapping_loc2={\n",
    "    \"istanbul\":[\"istanbul\", \"istanbul, turkey\", \"ümraniye\",\n",
    "                \"maslak\",\"ümraniye, istanbul, türkiye\", \"beşiktaş\",\n",
    "                \"ataşehir, istanbul, türkiye\",\"istanbul, istanbul, turkey\",\n",
    "                \"kadikoy, istanbul, turkey\", \"pendik, istanbul, turkey\",\n",
    "                \"maltepe, istanbul, turkey\", \"üsküdar, istanbul, turkey\",\n",
    "                \"beşiktaş, istanbul, turkey\", \"besiktas, istanbul, turkey\",\n",
    "                \"sariyer, istanbul, turkey\", \"atasehir, istanbul, turkey\",\n",
    "                \"kartal, istanbul, turkey\", \"sisli, istanbul, turkey\",\n",
    "                \"umraniye, istanbul, turkey\", \"kagithane, istanbul, turkey\",\n",
    "                \"bakirkoy, istanbul, turkey\", \"tuzla, istanbul, turkey\",\n",
    "                \"bahcelievler, istanbul, turkey\", \"beylikduzu, istanbul, turkey\",\n",
    "                \"avcilar, istanbul, turkey\", \"kucukcekmece, istanbul, turkey\",\n",
    "                \"greater istanbul\", \"sancaktepe, istanbul, turkey\",\n",
    "                \"beykoz, istanbul, turkey\", \"fatih, istanbul, turkey\",\n",
    "                \"zeytinburnu, istanbul, turkey\"],\n",
    "    \"ankara\":[\"ankara\", \"çankaya, ankara, türkiye\",\n",
    "              \"ankara, ankara, turkey\", \"ankara, turkey\",\n",
    "              \"cankaya, ankara, turkey\", \"yenimahalle, ankara, turkey\",\n",
    "              \"altindag, ankara, turkey\"],\n",
    "    \"izmir\":[\"izmir\", \"izmir, türkiye\", \"izmir, turkey\",\n",
    "             \"bornova, izmir, turkey\", \"izmir, izmir, turkey\"],\n",
    "    \"kocaeli\":[\"kocaeli\", \"gebze, kocaeli\", \"kocaeli, turkey\",\n",
    "               \"izmit, kocaeli, turkey\", \"gebze, kocaeli, turkey\"],\n",
    "    \"bursa\":[\"bursa\", \"bursa, turkey\"],\n",
    "    \"eskisehir\":[\"eskisehir\", \"eskişehir\", \"eskisehir, turkey\"],\n",
    "    \"sakarya\":[\"sakarya\", \"sakarya, turkey\", \"serdivan, sakarya, turkey\"],\n",
    "    \"antalya\":[\"antalya\", \"antalya, turkey\"],\n",
    "    \"manisa\":[\"manisa\", \"manisa, turkey\"],\n",
    "    \"kayseri\":[\"kayseri\", \"kayseri, turkey\"],\n",
    "    \"adana\":[\"adana\", \"adana, turkey\"],\n",
    "    \"konya\":[\"konya\", \"konya, turkey\"],\n",
    "    \"trabzon\":[\"trabzon\", \"trabzon, turkey\"],\n",
    "    \"mersin\":[\"mersin\", \"mersin, turkey\", \"mercin, içel, turkey\"],\n",
    "    \"tekirdağ\":[\"tekirdağ\", \"tekirdağ, türkiye\"],\n",
    "    \"mugla\":[\"mugla\", \"mugla, turkey\", \"muğla, turkey\"],\n",
    "    \"denizli\":[\"denizli\", \"denizli, turkey\"],\n",
    "    \"samsun\":[\"samsun\", \"samsun, turkey\"],\n",
    "    \"elazig\":[\"elazig\", \"elazığ, türkiye\", \"elazig, turkey\"],\n",
    "    \"US\":[\"us\"],\n",
    "    \"isparta\":[\"isparta, turkey\"],\n",
    "    \"gaziantep\":[\"gaziantep, turkey\"],\n",
    "    \"edirne\":[\"edirne, turkey\"],\n",
    "    \"sivas\":[\"sivas, turkey\"],\n",
    "    \"kahramanmaras\":[\"kahramanmaras, turkey\"]\n",
    "}"
   ]
  },
  {
   "cell_type": "code",
   "execution_count": 56,
   "metadata": {},
   "outputs": [],
   "source": [
    "def map_city2(city):\n",
    "    if isinstance(city,float) and pd.isna(city):\n",
    "        return city\n",
    "    city = city.lower()\n",
    "    for mapped, keywords in mapping_loc2.items():\n",
    "        for keyword in keywords:\n",
    "            keyword = keyword.lower()\n",
    "            if re.search(r'\\b' + keyword + r'\\b', city):\n",
    "                return mapped\n",
    "    return 'Diğer'"
   ]
  },
  {
   "cell_type": "code",
   "execution_count": 58,
   "metadata": {},
   "outputs": [
    {
     "data": {
      "text/plain": [
       "istanbul     28391\n",
       "Diğer        13521\n",
       "ankara        7708\n",
       "kocaeli        557\n",
       "antalya        387\n",
       "bursa          292\n",
       "eskisehir      291\n",
       "adana          288\n",
       "sakarya        286\n",
       "kayseri        269\n",
       "konya          250\n",
       "manisa         170\n",
       "mugla          146\n",
       "samsun          76\n",
       "tekirdağ        62\n",
       "denizli         62\n",
       "isparta         48\n",
       "edirne          44\n",
       "mersin          42\n",
       "gaziantep       41\n",
       "trabzon         35\n",
       "sivas           34\n",
       "izmir           15\n",
       "elazig           3\n",
       "Name: location, dtype: int64"
      ]
     },
     "execution_count": 58,
     "metadata": {},
     "output_type": "execute_result"
    }
   ],
   "source": [
    "train['location'] = train['location'].str.lower()\n",
    "train['location'] = train['location'].apply(map_city2)\n",
    "train['location'].value_counts()"
   ]
  },
  {
   "cell_type": "code",
   "execution_count": 61,
   "metadata": {},
   "outputs": [],
   "source": [
    "train.to_csv('../exported_datasets/based_train.csv', index=False)"
   ]
  },
  {
   "cell_type": "code",
   "execution_count": 62,
   "metadata": {},
   "outputs": [
    {
     "data": {
      "text/html": [
       "<div>\n",
       "<style scoped>\n",
       "    .dataframe tbody tr th:only-of-type {\n",
       "        vertical-align: middle;\n",
       "    }\n",
       "\n",
       "    .dataframe tbody tr th {\n",
       "        vertical-align: top;\n",
       "    }\n",
       "\n",
       "    .dataframe thead th {\n",
       "        text-align: right;\n",
       "    }\n",
       "</style>\n",
       "<table border=\"1\" class=\"dataframe\">\n",
       "  <thead>\n",
       "    <tr style=\"text-align: right;\">\n",
       "      <th></th>\n",
       "      <th>user_id</th>\n",
       "      <th>industry</th>\n",
       "      <th>location</th>\n",
       "    </tr>\n",
       "  </thead>\n",
       "  <tbody>\n",
       "    <tr>\n",
       "      <th>0</th>\n",
       "      <td>17449</td>\n",
       "      <td>Research</td>\n",
       "      <td>Turkey</td>\n",
       "    </tr>\n",
       "    <tr>\n",
       "      <th>1</th>\n",
       "      <td>33967</td>\n",
       "      <td>Computer Software</td>\n",
       "      <td>Istanbul, Istanbul, Turkey</td>\n",
       "    </tr>\n",
       "    <tr>\n",
       "      <th>2</th>\n",
       "      <td>2110</td>\n",
       "      <td>Automotive</td>\n",
       "      <td>Turkey</td>\n",
       "    </tr>\n",
       "    <tr>\n",
       "      <th>3</th>\n",
       "      <td>55082</td>\n",
       "      <td>Internet</td>\n",
       "      <td>Turkey</td>\n",
       "    </tr>\n",
       "    <tr>\n",
       "      <th>4</th>\n",
       "      <td>37165</td>\n",
       "      <td>Electrical/Electronic Manufacturing</td>\n",
       "      <td>Turkey</td>\n",
       "    </tr>\n",
       "  </tbody>\n",
       "</table>\n",
       "</div>"
      ],
      "text/plain": [
       "   user_id                             industry                    location\n",
       "0    17449                             Research                      Turkey\n",
       "1    33967                    Computer Software  Istanbul, Istanbul, Turkey\n",
       "2     2110                           Automotive                      Turkey\n",
       "3    55082                             Internet                      Turkey\n",
       "4    37165  Electrical/Electronic Manufacturing                      Turkey"
      ]
     },
     "execution_count": 62,
     "metadata": {},
     "output_type": "execute_result"
    }
   ],
   "source": [
    "test.head()"
   ]
  },
  {
   "cell_type": "code",
   "execution_count": 63,
   "metadata": {},
   "outputs": [
    {
     "data": {
      "text/plain": [
       "istanbul     7081\n",
       "Diğer        3371\n",
       "ankara       1948\n",
       "kocaeli       134\n",
       "antalya       106\n",
       "kayseri        89\n",
       "bursa          82\n",
       "adana          68\n",
       "sakarya        65\n",
       "konya          55\n",
       "eskisehir      49\n",
       "manisa         44\n",
       "mugla          42\n",
       "samsun         23\n",
       "tekirdağ       18\n",
       "denizli        15\n",
       "mersin         12\n",
       "gaziantep      12\n",
       "trabzon        11\n",
       "sivas          11\n",
       "isparta        10\n",
       "edirne          7\n",
       "izmir           2\n",
       "Name: location, dtype: int64"
      ]
     },
     "execution_count": 63,
     "metadata": {},
     "output_type": "execute_result"
    }
   ],
   "source": [
    "test['location'] = test['location'].str.lower()\n",
    "test['location'] = test['location'].apply(map_city2)\n",
    "test['location'].value_counts()"
   ]
  },
  {
   "cell_type": "code",
   "execution_count": 64,
   "metadata": {},
   "outputs": [],
   "source": [
    "test.to_csv('../exported_datasets/test.csv', index=False)"
   ]
  }
 ],
 "metadata": {
  "kernelspec": {
   "display_name": "Python 3",
   "language": "python",
   "name": "python3"
  },
  "language_info": {
   "codemirror_mode": {
    "name": "ipython",
    "version": 3
   },
   "file_extension": ".py",
   "mimetype": "text/x-python",
   "name": "python",
   "nbconvert_exporter": "python",
   "pygments_lexer": "ipython3",
   "version": "3.10.5"
  },
  "orig_nbformat": 4,
  "vscode": {
   "interpreter": {
    "hash": "578ce5a4903d7b45920c2d79663ce2541e7c0226009dc3f8451a28c8417bba54"
   }
  }
 },
 "nbformat": 4,
 "nbformat_minor": 2
}
