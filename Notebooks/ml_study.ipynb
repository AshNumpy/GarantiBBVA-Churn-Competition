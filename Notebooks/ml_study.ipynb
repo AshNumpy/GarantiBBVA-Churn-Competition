{
 "cells": [
  {
   "cell_type": "code",
   "execution_count": 1,
   "metadata": {},
   "outputs": [],
   "source": [
    "# libs \n",
    "import pandas as pd \n",
    "import numpy as np "
   ]
  },
  {
   "cell_type": "code",
   "execution_count": 2,
   "metadata": {},
   "outputs": [
    {
     "data": {
      "text/html": [
       "<div>\n",
       "<style scoped>\n",
       "    .dataframe tbody tr th:only-of-type {\n",
       "        vertical-align: middle;\n",
       "    }\n",
       "\n",
       "    .dataframe tbody tr th {\n",
       "        vertical-align: top;\n",
       "    }\n",
       "\n",
       "    .dataframe thead th {\n",
       "        text-align: right;\n",
       "    }\n",
       "</style>\n",
       "<table border=\"1\" class=\"dataframe\">\n",
       "  <thead>\n",
       "    <tr style=\"text-align: right;\">\n",
       "      <th></th>\n",
       "      <th>user_id</th>\n",
       "      <th>industry</th>\n",
       "      <th>location</th>\n",
       "      <th>moved_after_2019</th>\n",
       "      <th>ITU</th>\n",
       "      <th>YTU</th>\n",
       "      <th>anadolu_üniversitesi</th>\n",
       "      <th>diğer_school</th>\n",
       "      <th>ege_üniversitesi</th>\n",
       "      <th>hacettepe_üniversitesi</th>\n",
       "      <th>...</th>\n",
       "      <th>Software Development</th>\n",
       "      <th>Software Engineering</th>\n",
       "      <th>Spring Framework</th>\n",
       "      <th>Teamwork</th>\n",
       "      <th>Visual Studio</th>\n",
       "      <th>Web Development</th>\n",
       "      <th>XML</th>\n",
       "      <th>jQuery</th>\n",
       "      <th>other</th>\n",
       "      <th>skill_count</th>\n",
       "    </tr>\n",
       "  </thead>\n",
       "  <tbody>\n",
       "    <tr>\n",
       "      <th>0</th>\n",
       "      <td>1301</td>\n",
       "      <td>Information Technology</td>\n",
       "      <td>istanbul</td>\n",
       "      <td>1</td>\n",
       "      <td>0.0</td>\n",
       "      <td>0.0</td>\n",
       "      <td>0.0</td>\n",
       "      <td>1.0</td>\n",
       "      <td>0.0</td>\n",
       "      <td>0.0</td>\n",
       "      <td>...</td>\n",
       "      <td>1.0</td>\n",
       "      <td>0.0</td>\n",
       "      <td>0.0</td>\n",
       "      <td>0.0</td>\n",
       "      <td>0.0</td>\n",
       "      <td>0.0</td>\n",
       "      <td>0.0</td>\n",
       "      <td>0.0</td>\n",
       "      <td>1.0</td>\n",
       "      <td>23.0</td>\n",
       "    </tr>\n",
       "    <tr>\n",
       "      <th>1</th>\n",
       "      <td>6950</td>\n",
       "      <td>Information Technology</td>\n",
       "      <td>istanbul</td>\n",
       "      <td>0</td>\n",
       "      <td>0.0</td>\n",
       "      <td>0.0</td>\n",
       "      <td>0.0</td>\n",
       "      <td>1.0</td>\n",
       "      <td>0.0</td>\n",
       "      <td>0.0</td>\n",
       "      <td>...</td>\n",
       "      <td>1.0</td>\n",
       "      <td>1.0</td>\n",
       "      <td>0.0</td>\n",
       "      <td>0.0</td>\n",
       "      <td>0.0</td>\n",
       "      <td>1.0</td>\n",
       "      <td>0.0</td>\n",
       "      <td>0.0</td>\n",
       "      <td>1.0</td>\n",
       "      <td>49.0</td>\n",
       "    </tr>\n",
       "    <tr>\n",
       "      <th>2</th>\n",
       "      <td>4880</td>\n",
       "      <td>Others</td>\n",
       "      <td>diğer</td>\n",
       "      <td>0</td>\n",
       "      <td>0.0</td>\n",
       "      <td>0.0</td>\n",
       "      <td>0.0</td>\n",
       "      <td>1.0</td>\n",
       "      <td>0.0</td>\n",
       "      <td>0.0</td>\n",
       "      <td>...</td>\n",
       "      <td>0.0</td>\n",
       "      <td>0.0</td>\n",
       "      <td>0.0</td>\n",
       "      <td>0.0</td>\n",
       "      <td>0.0</td>\n",
       "      <td>1.0</td>\n",
       "      <td>0.0</td>\n",
       "      <td>1.0</td>\n",
       "      <td>1.0</td>\n",
       "      <td>21.0</td>\n",
       "    </tr>\n",
       "    <tr>\n",
       "      <th>3</th>\n",
       "      <td>26046</td>\n",
       "      <td>Information Technology</td>\n",
       "      <td>istanbul</td>\n",
       "      <td>0</td>\n",
       "      <td>0.0</td>\n",
       "      <td>0.0</td>\n",
       "      <td>0.0</td>\n",
       "      <td>1.0</td>\n",
       "      <td>0.0</td>\n",
       "      <td>0.0</td>\n",
       "      <td>...</td>\n",
       "      <td>0.0</td>\n",
       "      <td>1.0</td>\n",
       "      <td>0.0</td>\n",
       "      <td>0.0</td>\n",
       "      <td>0.0</td>\n",
       "      <td>0.0</td>\n",
       "      <td>0.0</td>\n",
       "      <td>0.0</td>\n",
       "      <td>1.0</td>\n",
       "      <td>30.0</td>\n",
       "    </tr>\n",
       "    <tr>\n",
       "      <th>4</th>\n",
       "      <td>11005</td>\n",
       "      <td>Financial Services</td>\n",
       "      <td>istanbul</td>\n",
       "      <td>0</td>\n",
       "      <td>0.0</td>\n",
       "      <td>0.0</td>\n",
       "      <td>0.0</td>\n",
       "      <td>1.0</td>\n",
       "      <td>0.0</td>\n",
       "      <td>0.0</td>\n",
       "      <td>...</td>\n",
       "      <td>0.0</td>\n",
       "      <td>0.0</td>\n",
       "      <td>0.0</td>\n",
       "      <td>0.0</td>\n",
       "      <td>0.0</td>\n",
       "      <td>0.0</td>\n",
       "      <td>0.0</td>\n",
       "      <td>0.0</td>\n",
       "      <td>1.0</td>\n",
       "      <td>48.0</td>\n",
       "    </tr>\n",
       "  </tbody>\n",
       "</table>\n",
       "<p>5 rows × 118 columns</p>\n",
       "</div>"
      ],
      "text/plain": [
       "   user_id                industry  location  moved_after_2019  ITU  YTU  \\\n",
       "0     1301  Information Technology  istanbul                 1  0.0  0.0   \n",
       "1     6950  Information Technology  istanbul                 0  0.0  0.0   \n",
       "2     4880                  Others     diğer                 0  0.0  0.0   \n",
       "3    26046  Information Technology  istanbul                 0  0.0  0.0   \n",
       "4    11005      Financial Services  istanbul                 0  0.0  0.0   \n",
       "\n",
       "   anadolu_üniversitesi  diğer_school  ege_üniversitesi  \\\n",
       "0                   0.0           1.0               0.0   \n",
       "1                   0.0           1.0               0.0   \n",
       "2                   0.0           1.0               0.0   \n",
       "3                   0.0           1.0               0.0   \n",
       "4                   0.0           1.0               0.0   \n",
       "\n",
       "   hacettepe_üniversitesi  ...  Software Development  Software Engineering  \\\n",
       "0                     0.0  ...                   1.0                   0.0   \n",
       "1                     0.0  ...                   1.0                   1.0   \n",
       "2                     0.0  ...                   0.0                   0.0   \n",
       "3                     0.0  ...                   0.0                   1.0   \n",
       "4                     0.0  ...                   0.0                   0.0   \n",
       "\n",
       "   Spring Framework  Teamwork  Visual Studio  Web Development  XML  jQuery  \\\n",
       "0               0.0       0.0            0.0              0.0  0.0     0.0   \n",
       "1               0.0       0.0            0.0              1.0  0.0     0.0   \n",
       "2               0.0       0.0            0.0              1.0  0.0     1.0   \n",
       "3               0.0       0.0            0.0              0.0  0.0     0.0   \n",
       "4               0.0       0.0            0.0              0.0  0.0     0.0   \n",
       "\n",
       "   other  skill_count  \n",
       "0    1.0         23.0  \n",
       "1    1.0         49.0  \n",
       "2    1.0         21.0  \n",
       "3    1.0         30.0  \n",
       "4    1.0         48.0  \n",
       "\n",
       "[5 rows x 118 columns]"
      ]
     },
     "execution_count": 2,
     "metadata": {},
     "output_type": "execute_result"
    }
   ],
   "source": [
    "train = pd.read_csv('../ML-DL Datasets/train.csv')\n",
    "test = pd.read_csv('../ML-DL Datasets/test.csv')\n",
    "train.head()"
   ]
  },
  {
   "cell_type": "code",
   "execution_count": 3,
   "metadata": {},
   "outputs": [
    {
     "data": {
      "text/html": [
       "<div>\n",
       "<style scoped>\n",
       "    .dataframe tbody tr th:only-of-type {\n",
       "        vertical-align: middle;\n",
       "    }\n",
       "\n",
       "    .dataframe tbody tr th {\n",
       "        vertical-align: top;\n",
       "    }\n",
       "\n",
       "    .dataframe thead th {\n",
       "        text-align: right;\n",
       "    }\n",
       "</style>\n",
       "<table border=\"1\" class=\"dataframe\">\n",
       "  <thead>\n",
       "    <tr style=\"text-align: right;\">\n",
       "      <th></th>\n",
       "      <th>school_count</th>\n",
       "      <th>experience_month</th>\n",
       "      <th>exp_comp_count</th>\n",
       "      <th>language_count</th>\n",
       "      <th>skill_count</th>\n",
       "      <th>moved_after_2019</th>\n",
       "      <th>industry</th>\n",
       "      <th>location</th>\n",
       "    </tr>\n",
       "  </thead>\n",
       "  <tbody>\n",
       "    <tr>\n",
       "      <th>0</th>\n",
       "      <td>2.0</td>\n",
       "      <td>92.0</td>\n",
       "      <td>4.0</td>\n",
       "      <td>2.0</td>\n",
       "      <td>23.0</td>\n",
       "      <td>1</td>\n",
       "      <td>Information Technology</td>\n",
       "      <td>istanbul</td>\n",
       "    </tr>\n",
       "    <tr>\n",
       "      <th>1</th>\n",
       "      <td>1.0</td>\n",
       "      <td>117.0</td>\n",
       "      <td>6.0</td>\n",
       "      <td>3.0</td>\n",
       "      <td>49.0</td>\n",
       "      <td>0</td>\n",
       "      <td>Information Technology</td>\n",
       "      <td>istanbul</td>\n",
       "    </tr>\n",
       "    <tr>\n",
       "      <th>2</th>\n",
       "      <td>2.0</td>\n",
       "      <td>108.0</td>\n",
       "      <td>4.0</td>\n",
       "      <td>0.0</td>\n",
       "      <td>21.0</td>\n",
       "      <td>0</td>\n",
       "      <td>Others</td>\n",
       "      <td>diğer</td>\n",
       "    </tr>\n",
       "    <tr>\n",
       "      <th>3</th>\n",
       "      <td>3.0</td>\n",
       "      <td>160.0</td>\n",
       "      <td>4.0</td>\n",
       "      <td>1.0</td>\n",
       "      <td>30.0</td>\n",
       "      <td>0</td>\n",
       "      <td>Information Technology</td>\n",
       "      <td>istanbul</td>\n",
       "    </tr>\n",
       "    <tr>\n",
       "      <th>4</th>\n",
       "      <td>2.0</td>\n",
       "      <td>160.0</td>\n",
       "      <td>3.0</td>\n",
       "      <td>2.0</td>\n",
       "      <td>48.0</td>\n",
       "      <td>0</td>\n",
       "      <td>Financial Services</td>\n",
       "      <td>istanbul</td>\n",
       "    </tr>\n",
       "  </tbody>\n",
       "</table>\n",
       "</div>"
      ],
      "text/plain": [
       "   school_count  experience_month  exp_comp_count  language_count  \\\n",
       "0           2.0              92.0             4.0             2.0   \n",
       "1           1.0             117.0             6.0             3.0   \n",
       "2           2.0             108.0             4.0             0.0   \n",
       "3           3.0             160.0             4.0             1.0   \n",
       "4           2.0             160.0             3.0             2.0   \n",
       "\n",
       "   skill_count  moved_after_2019                industry  location  \n",
       "0         23.0                 1  Information Technology  istanbul  \n",
       "1         49.0                 0  Information Technology  istanbul  \n",
       "2         21.0                 0                  Others     diğer  \n",
       "3         30.0                 0  Information Technology  istanbul  \n",
       "4         48.0                 0      Financial Services  istanbul  "
      ]
     },
     "execution_count": 3,
     "metadata": {},
     "output_type": "execute_result"
    }
   ],
   "source": [
    "spec_cols = ['school_count', 'experience_month', 'exp_comp_count', 'language_count', 'skill_count', 'moved_after_2019', 'industry', 'location']\n",
    "train[spec_cols].head()"
   ]
  },
  {
   "cell_type": "code",
   "execution_count": 4,
   "metadata": {},
   "outputs": [],
   "source": [
    "# scaler\n",
    "from sklearn.preprocessing import StandardScaler\n",
    "sc = StandardScaler()"
   ]
  },
  {
   "cell_type": "code",
   "execution_count": 5,
   "metadata": {},
   "outputs": [
    {
     "data": {
      "text/html": [
       "<div>\n",
       "<style scoped>\n",
       "    .dataframe tbody tr th:only-of-type {\n",
       "        vertical-align: middle;\n",
       "    }\n",
       "\n",
       "    .dataframe tbody tr th {\n",
       "        vertical-align: top;\n",
       "    }\n",
       "\n",
       "    .dataframe thead th {\n",
       "        text-align: right;\n",
       "    }\n",
       "</style>\n",
       "<table border=\"1\" class=\"dataframe\">\n",
       "  <thead>\n",
       "    <tr style=\"text-align: right;\">\n",
       "      <th></th>\n",
       "      <th>school_count</th>\n",
       "      <th>experience_month</th>\n",
       "      <th>exp_comp_count</th>\n",
       "      <th>language_count</th>\n",
       "      <th>skill_count</th>\n",
       "    </tr>\n",
       "  </thead>\n",
       "  <tbody>\n",
       "    <tr>\n",
       "      <th>0</th>\n",
       "      <td>-0.132132</td>\n",
       "      <td>-0.147686</td>\n",
       "      <td>0.487529</td>\n",
       "      <td>0.696960</td>\n",
       "      <td>0.140200</td>\n",
       "    </tr>\n",
       "    <tr>\n",
       "      <th>1</th>\n",
       "      <td>-1.002056</td>\n",
       "      <td>0.208104</td>\n",
       "      <td>1.384526</td>\n",
       "      <td>1.516626</td>\n",
       "      <td>2.018894</td>\n",
       "    </tr>\n",
       "    <tr>\n",
       "      <th>2</th>\n",
       "      <td>-0.132132</td>\n",
       "      <td>0.080019</td>\n",
       "      <td>0.487529</td>\n",
       "      <td>-0.942370</td>\n",
       "      <td>-0.004315</td>\n",
       "    </tr>\n",
       "    <tr>\n",
       "      <th>3</th>\n",
       "      <td>0.737792</td>\n",
       "      <td>0.820063</td>\n",
       "      <td>0.487529</td>\n",
       "      <td>-0.122705</td>\n",
       "      <td>0.646002</td>\n",
       "    </tr>\n",
       "    <tr>\n",
       "      <th>4</th>\n",
       "      <td>-0.132132</td>\n",
       "      <td>0.820063</td>\n",
       "      <td>0.039031</td>\n",
       "      <td>0.696960</td>\n",
       "      <td>1.946637</td>\n",
       "    </tr>\n",
       "  </tbody>\n",
       "</table>\n",
       "</div>"
      ],
      "text/plain": [
       "   school_count  experience_month  exp_comp_count  language_count  skill_count\n",
       "0     -0.132132         -0.147686        0.487529        0.696960     0.140200\n",
       "1     -1.002056          0.208104        1.384526        1.516626     2.018894\n",
       "2     -0.132132          0.080019        0.487529       -0.942370    -0.004315\n",
       "3      0.737792          0.820063        0.487529       -0.122705     0.646002\n",
       "4     -0.132132          0.820063        0.039031        0.696960     1.946637"
      ]
     },
     "execution_count": 5,
     "metadata": {},
     "output_type": "execute_result"
    }
   ],
   "source": [
    "train[['school_count', 'experience_month', 'exp_comp_count', 'language_count', 'skill_count']] = sc.fit_transform(train[['school_count', 'experience_month', 'exp_comp_count', 'language_count', 'skill_count']])\n",
    "train[['school_count', 'experience_month', 'exp_comp_count', 'language_count', 'skill_count']].head()"
   ]
  },
  {
   "cell_type": "code",
   "execution_count": 6,
   "metadata": {},
   "outputs": [],
   "source": [
    "# label encoder\n",
    "from sklearn.preprocessing import LabelEncoder\n",
    "industry_le = LabelEncoder()\n",
    "location_le = LabelEncoder()"
   ]
  },
  {
   "cell_type": "code",
   "execution_count": 7,
   "metadata": {},
   "outputs": [
    {
     "data": {
      "text/html": [
       "<div>\n",
       "<style scoped>\n",
       "    .dataframe tbody tr th:only-of-type {\n",
       "        vertical-align: middle;\n",
       "    }\n",
       "\n",
       "    .dataframe tbody tr th {\n",
       "        vertical-align: top;\n",
       "    }\n",
       "\n",
       "    .dataframe thead th {\n",
       "        text-align: right;\n",
       "    }\n",
       "</style>\n",
       "<table border=\"1\" class=\"dataframe\">\n",
       "  <thead>\n",
       "    <tr style=\"text-align: right;\">\n",
       "      <th></th>\n",
       "      <th>industry</th>\n",
       "      <th>location</th>\n",
       "    </tr>\n",
       "  </thead>\n",
       "  <tbody>\n",
       "    <tr>\n",
       "      <th>0</th>\n",
       "      <td>11</td>\n",
       "      <td>8</td>\n",
       "    </tr>\n",
       "    <tr>\n",
       "      <th>1</th>\n",
       "      <td>11</td>\n",
       "      <td>8</td>\n",
       "    </tr>\n",
       "    <tr>\n",
       "      <th>2</th>\n",
       "      <td>16</td>\n",
       "      <td>5</td>\n",
       "    </tr>\n",
       "    <tr>\n",
       "      <th>3</th>\n",
       "      <td>11</td>\n",
       "      <td>8</td>\n",
       "    </tr>\n",
       "    <tr>\n",
       "      <th>4</th>\n",
       "      <td>8</td>\n",
       "      <td>8</td>\n",
       "    </tr>\n",
       "  </tbody>\n",
       "</table>\n",
       "</div>"
      ],
      "text/plain": [
       "   industry  location\n",
       "0        11         8\n",
       "1        11         8\n",
       "2        16         5\n",
       "3        11         8\n",
       "4         8         8"
      ]
     },
     "execution_count": 7,
     "metadata": {},
     "output_type": "execute_result"
    }
   ],
   "source": [
    "train['industry'] = industry_le.fit_transform(train['industry'])\n",
    "train['location'] = location_le.fit_transform(train['location'])\n",
    "train[['industry', 'location']].head()"
   ]
  },
  {
   "cell_type": "code",
   "execution_count": 8,
   "metadata": {},
   "outputs": [
    {
     "data": {
      "text/html": [
       "<div>\n",
       "<style scoped>\n",
       "    .dataframe tbody tr th:only-of-type {\n",
       "        vertical-align: middle;\n",
       "    }\n",
       "\n",
       "    .dataframe tbody tr th {\n",
       "        vertical-align: top;\n",
       "    }\n",
       "\n",
       "    .dataframe thead th {\n",
       "        text-align: right;\n",
       "    }\n",
       "</style>\n",
       "<table border=\"1\" class=\"dataframe\">\n",
       "  <thead>\n",
       "    <tr style=\"text-align: right;\">\n",
       "      <th></th>\n",
       "      <th>school_count</th>\n",
       "      <th>experience_month</th>\n",
       "      <th>exp_comp_count</th>\n",
       "      <th>language_count</th>\n",
       "      <th>skill_count</th>\n",
       "      <th>moved_after_2019</th>\n",
       "      <th>industry</th>\n",
       "      <th>location</th>\n",
       "    </tr>\n",
       "  </thead>\n",
       "  <tbody>\n",
       "    <tr>\n",
       "      <th>0</th>\n",
       "      <td>-0.132132</td>\n",
       "      <td>-0.147686</td>\n",
       "      <td>0.487529</td>\n",
       "      <td>0.696960</td>\n",
       "      <td>0.140200</td>\n",
       "      <td>1</td>\n",
       "      <td>11</td>\n",
       "      <td>8</td>\n",
       "    </tr>\n",
       "    <tr>\n",
       "      <th>1</th>\n",
       "      <td>-1.002056</td>\n",
       "      <td>0.208104</td>\n",
       "      <td>1.384526</td>\n",
       "      <td>1.516626</td>\n",
       "      <td>2.018894</td>\n",
       "      <td>0</td>\n",
       "      <td>11</td>\n",
       "      <td>8</td>\n",
       "    </tr>\n",
       "    <tr>\n",
       "      <th>2</th>\n",
       "      <td>-0.132132</td>\n",
       "      <td>0.080019</td>\n",
       "      <td>0.487529</td>\n",
       "      <td>-0.942370</td>\n",
       "      <td>-0.004315</td>\n",
       "      <td>0</td>\n",
       "      <td>16</td>\n",
       "      <td>5</td>\n",
       "    </tr>\n",
       "    <tr>\n",
       "      <th>3</th>\n",
       "      <td>0.737792</td>\n",
       "      <td>0.820063</td>\n",
       "      <td>0.487529</td>\n",
       "      <td>-0.122705</td>\n",
       "      <td>0.646002</td>\n",
       "      <td>0</td>\n",
       "      <td>11</td>\n",
       "      <td>8</td>\n",
       "    </tr>\n",
       "    <tr>\n",
       "      <th>4</th>\n",
       "      <td>-0.132132</td>\n",
       "      <td>0.820063</td>\n",
       "      <td>0.039031</td>\n",
       "      <td>0.696960</td>\n",
       "      <td>1.946637</td>\n",
       "      <td>0</td>\n",
       "      <td>8</td>\n",
       "      <td>8</td>\n",
       "    </tr>\n",
       "  </tbody>\n",
       "</table>\n",
       "</div>"
      ],
      "text/plain": [
       "   school_count  experience_month  exp_comp_count  language_count  \\\n",
       "0     -0.132132         -0.147686        0.487529        0.696960   \n",
       "1     -1.002056          0.208104        1.384526        1.516626   \n",
       "2     -0.132132          0.080019        0.487529       -0.942370   \n",
       "3      0.737792          0.820063        0.487529       -0.122705   \n",
       "4     -0.132132          0.820063        0.039031        0.696960   \n",
       "\n",
       "   skill_count  moved_after_2019  industry  location  \n",
       "0     0.140200                 1        11         8  \n",
       "1     2.018894                 0        11         8  \n",
       "2    -0.004315                 0        16         5  \n",
       "3     0.646002                 0        11         8  \n",
       "4     1.946637                 0         8         8  "
      ]
     },
     "execution_count": 8,
     "metadata": {},
     "output_type": "execute_result"
    }
   ],
   "source": [
    "train[spec_cols].head()"
   ]
  },
  {
   "cell_type": "code",
   "execution_count": 9,
   "metadata": {},
   "outputs": [
    {
     "data": {
      "text/plain": [
       "0    32496\n",
       "1    20523\n",
       "Name: moved_after_2019, dtype: int64"
      ]
     },
     "execution_count": 9,
     "metadata": {},
     "output_type": "execute_result"
    }
   ],
   "source": [
    "train['moved_after_2019'].value_counts()"
   ]
  },
  {
   "attachments": {},
   "cell_type": "markdown",
   "metadata": {},
   "source": [
    "Hedef değişken dengesiz dağılıma sahip `AĞIRLIKLANDIRMA` ihtiyacı duyacak!"
   ]
  },
  {
   "cell_type": "code",
   "execution_count": 10,
   "metadata": {},
   "outputs": [],
   "source": [
    "class_weight = {0:2, 1:3}"
   ]
  },
  {
   "cell_type": "code",
   "execution_count": 11,
   "metadata": {},
   "outputs": [],
   "source": [
    "train = train.drop(['user_id'], axis=1)\n",
    "X = train.drop(['moved_after_2019'], axis=1)\n",
    "y = train[['moved_after_2019']]"
   ]
  },
  {
   "cell_type": "code",
   "execution_count": 12,
   "metadata": {},
   "outputs": [],
   "source": [
    "# splitting\n",
    "from sklearn.model_selection import train_test_split\n",
    "X_train, X_test, y_train, y_test = train_test_split(X, y, train_size=.75, random_state=123)"
   ]
  },
  {
   "attachments": {},
   "cell_type": "markdown",
   "metadata": {},
   "source": [
    "### Modeller:\n",
    "\n",
    "1. Lojistik Regresyon"
   ]
  },
  {
   "cell_type": "code",
   "execution_count": 20,
   "metadata": {},
   "outputs": [],
   "source": [
    "from sklearn.linear_model import LogisticRegression\n",
    "lr = LogisticRegression(class_weight=class_weight, max_iter=1000)\n",
    "lr.fit(X_train, np.ravel(y_train))\n",
    "logistic_predictions = lr.predict(X_test)"
   ]
  },
  {
   "attachments": {},
   "cell_type": "markdown",
   "metadata": {},
   "source": [
    "2. Random Forest"
   ]
  },
  {
   "cell_type": "code",
   "execution_count": 14,
   "metadata": {},
   "outputs": [],
   "source": [
    "from sklearn.ensemble import RandomForestClassifier\n",
    "rf = RandomForestClassifier(class_weight=class_weight)\n",
    "rf.fit(X_train, np.ravel(y_train))\n",
    "randomf_predictions = rf.predict(X_test)"
   ]
  },
  {
   "attachments": {},
   "cell_type": "markdown",
   "metadata": {},
   "source": [
    "3. Gradient Boosting Trees"
   ]
  },
  {
   "cell_type": "code",
   "execution_count": 15,
   "metadata": {},
   "outputs": [],
   "source": [
    "from sklearn.ensemble import GradientBoostingClassifier\n",
    "gbt = GradientBoostingClassifier()\n",
    "gbt.fit(X_train, np.ravel(y_train), sample_weight=[class_weight[y] for y in np.ravel(y_train)])\n",
    "gbt_predictions = gbt.predict(X_test)"
   ]
  },
  {
   "attachments": {},
   "cell_type": "markdown",
   "metadata": {},
   "source": [
    "4. Models That Use Bayes Therom"
   ]
  },
  {
   "attachments": {},
   "cell_type": "markdown",
   "metadata": {},
   "source": [
    "`BernoulliNB` features arasındaki ilişkiyi önemsemez ve binary kodlanmış verilerle çok iyi çalışır. Ancak özellikler arası ilişkiyi ihmal eder.  \n",
    "\n",
    "`CategoricalNB` ve `MultinomalNB` negatif değer bulunmayan veri setiyle çalışır. Bizim 5 adet standartlaştırılmış sütunum olduğundan bu sütunları atmak istemediğimizden kullanmadık.  \n",
    "\n",
    "`GaussianNB` ise normal dağılım gösteren veri setleriyle çalışır."
   ]
  },
  {
   "cell_type": "code",
   "execution_count": 16,
   "metadata": {},
   "outputs": [],
   "source": [
    "from sklearn.naive_bayes import BernoulliNB\n",
    "bnb = BernoulliNB(class_prior=[0.4, 0.6])\n",
    "bnb.fit(X_train, np.ravel(y_train))\n",
    "bnb_predictions = bnb.predict(X_test)"
   ]
  },
  {
   "attachments": {},
   "cell_type": "markdown",
   "metadata": {},
   "source": [
    "``GaussianNB`` modeli, sınıf ağırlıklarını doğrudan kabul etmez. Bunun nedeni, GaussianNB'nin sınıf olasılıklarını hesaplamak için normal dağılımı kullanmasıdır.   \n",
    "\n",
    "Bu nedenle, sınıf ağırlıklarının etkisini doğrudan ifade etmek için sınıf ağırlıklarını kullanamayız. Bunun yerine, sınıf ağırlıklarımızı modelin eğitim örneklerinin oranına göre ayarlamak ve modeli normal olarak eğitmek en iyi yaklaşım olacaktır."
   ]
  },
  {
   "attachments": {},
   "cell_type": "markdown",
   "metadata": {},
   "source": [
    "**SMOTE (Synthetic Minority Over-sampling Technique):**  \n",
    "\n",
    "SMOTE, azınlık sınıfındaki örneklerin kopyalarını çıkararak sentetik örnekler oluşturur ve böylece veri kümesindeki azınlık sınıfının örnek sayısını artırır."
   ]
  },
  {
   "cell_type": "code",
   "execution_count": 17,
   "metadata": {},
   "outputs": [],
   "source": [
    "from imblearn.over_sampling import SMOTE\n",
    "\n",
    "smote = SMOTE(sampling_strategy='minority')\n",
    "X_train_smote, y_train_smote = smote.fit_resample(X_train, y_train)"
   ]
  },
  {
   "cell_type": "code",
   "execution_count": 18,
   "metadata": {},
   "outputs": [],
   "source": [
    "from sklearn.naive_bayes import GaussianNB\n",
    "gnb = GaussianNB()\n",
    "gnb.fit(X_train_smote, np.ravel(y_train_smote))\n",
    "gnb_predictions = gnb.predict(X_test)"
   ]
  },
  {
   "attachments": {},
   "cell_type": "markdown",
   "metadata": {},
   "source": [
    "5. SVM (Support Vector Machines)"
   ]
  },
  {
   "cell_type": "code",
   "execution_count": 19,
   "metadata": {},
   "outputs": [],
   "source": [
    "from sklearn.svm import SVC\n",
    "svc = SVC(class_weight=class_weight)\n",
    "svc.fit(X_train, np.ravel(y_train))\n",
    "svc_predictions = svc.predict(X_test)"
   ]
  },
  {
   "attachments": {},
   "cell_type": "markdown",
   "metadata": {},
   "source": [
    "<hr>\n",
    "\n",
    "### Tahmin Sonuçlarının Değerlendirilmesi:"
   ]
  },
  {
   "cell_type": "code",
   "execution_count": 41,
   "metadata": {},
   "outputs": [],
   "source": [
    "# metrics\n",
    "from sklearn.metrics import classification_report\n",
    "from sklearn.metrics import roc_curve, roc_auc_score\n",
    "\n",
    "# plotting\n",
    "import matplotlib.pyplot as plt"
   ]
  },
  {
   "attachments": {},
   "cell_type": "markdown",
   "metadata": {},
   "source": [
    "1. Logistic Regression Accuracy"
   ]
  },
  {
   "cell_type": "code",
   "execution_count": 97,
   "metadata": {},
   "outputs": [
    {
     "data": {
      "text/html": [
       "<div>\n",
       "<style scoped>\n",
       "    .dataframe tbody tr th:only-of-type {\n",
       "        vertical-align: middle;\n",
       "    }\n",
       "\n",
       "    .dataframe tbody tr th {\n",
       "        vertical-align: top;\n",
       "    }\n",
       "\n",
       "    .dataframe thead th {\n",
       "        text-align: right;\n",
       "    }\n",
       "</style>\n",
       "<table border=\"1\" class=\"dataframe\">\n",
       "  <thead>\n",
       "    <tr style=\"text-align: right;\">\n",
       "      <th></th>\n",
       "      <th>0</th>\n",
       "      <th>1</th>\n",
       "      <th>accuracy</th>\n",
       "      <th>macro avg</th>\n",
       "      <th>weighted avg</th>\n",
       "    </tr>\n",
       "  </thead>\n",
       "  <tbody>\n",
       "    <tr>\n",
       "      <th>precision</th>\n",
       "      <td>0.783398</td>\n",
       "      <td>0.626436</td>\n",
       "      <td>0.718446</td>\n",
       "      <td>0.704917</td>\n",
       "      <td>0.722780</td>\n",
       "    </tr>\n",
       "    <tr>\n",
       "      <th>recall</th>\n",
       "      <td>0.748156</td>\n",
       "      <td>0.671225</td>\n",
       "      <td>0.718446</td>\n",
       "      <td>0.709691</td>\n",
       "      <td>0.718446</td>\n",
       "    </tr>\n",
       "    <tr>\n",
       "      <th>f1-score</th>\n",
       "      <td>0.765372</td>\n",
       "      <td>0.648057</td>\n",
       "      <td>0.718446</td>\n",
       "      <td>0.706714</td>\n",
       "      <td>0.720066</td>\n",
       "    </tr>\n",
       "    <tr>\n",
       "      <th>support</th>\n",
       "      <td>8136.000000</td>\n",
       "      <td>5119.000000</td>\n",
       "      <td>0.718446</td>\n",
       "      <td>13255.000000</td>\n",
       "      <td>13255.000000</td>\n",
       "    </tr>\n",
       "  </tbody>\n",
       "</table>\n",
       "</div>"
      ],
      "text/plain": [
       "                     0            1  accuracy     macro avg  weighted avg\n",
       "precision     0.783398     0.626436  0.718446      0.704917      0.722780\n",
       "recall        0.748156     0.671225  0.718446      0.709691      0.718446\n",
       "f1-score      0.765372     0.648057  0.718446      0.706714      0.720066\n",
       "support    8136.000000  5119.000000  0.718446  13255.000000  13255.000000"
      ]
     },
     "execution_count": 97,
     "metadata": {},
     "output_type": "execute_result"
    }
   ],
   "source": [
    "fpr, tpr, thresholds = roc_curve(y_test, logistic_predictions)\n",
    "auc = roc_auc_score(y_test, logistic_predictions)\n",
    "pd.DataFrame(classification_report(y_test, logistic_predictions, output_dict=True))"
   ]
  },
  {
   "cell_type": "code",
   "execution_count": 98,
   "metadata": {},
   "outputs": [
    {
     "data": {
      "image/png": "[encoded data removed]",
      "text/plain": [
       "<Figure size 432x288 with 1 Axes>"
      ]
     },
     "metadata": {
      "needs_background": "light"
     },
     "output_type": "display_data"
    }
   ],
   "source": [
    "plt.plot(fpr, tpr, label=f'ROC curve (area = {auc:0.2f})', color='orange')\n",
    "plt.plot([0, 1], [0, 1], 'k--', label='Useless Model Limit')\n",
    "\n",
    "plt.xlim([-0.05, 1.05])\n",
    "plt.ylim([-0.05, 1.05])\n",
    "\n",
    "plt.xlabel('False Positive Rate')\n",
    "plt.ylabel('True Positive Rate')\n",
    "plt.title('Logistic Regression (ROC) Curve')\n",
    "plt.legend(loc=\"lower right\")\n",
    "\n",
    "plt.savefig('../Images/Logistic_Regression_ROC.png')\n",
    "plt.show()"
   ]
  },
  {
   "attachments": {},
   "cell_type": "markdown",
   "metadata": {},
   "source": [
    "2. Random Forest Accuracy"
   ]
  },
  {
   "cell_type": "code",
   "execution_count": 99,
   "metadata": {},
   "outputs": [
    {
     "data": {
      "text/html": [
       "<div>\n",
       "<style scoped>\n",
       "    .dataframe tbody tr th:only-of-type {\n",
       "        vertical-align: middle;\n",
       "    }\n",
       "\n",
       "    .dataframe tbody tr th {\n",
       "        vertical-align: top;\n",
       "    }\n",
       "\n",
       "    .dataframe thead th {\n",
       "        text-align: right;\n",
       "    }\n",
       "</style>\n",
       "<table border=\"1\" class=\"dataframe\">\n",
       "  <thead>\n",
       "    <tr style=\"text-align: right;\">\n",
       "      <th></th>\n",
       "      <th>0</th>\n",
       "      <th>1</th>\n",
       "      <th>accuracy</th>\n",
       "      <th>macro avg</th>\n",
       "      <th>weighted avg</th>\n",
       "    </tr>\n",
       "  </thead>\n",
       "  <tbody>\n",
       "    <tr>\n",
       "      <th>precision</th>\n",
       "      <td>0.861366</td>\n",
       "      <td>0.709711</td>\n",
       "      <td>0.795624</td>\n",
       "      <td>0.785539</td>\n",
       "      <td>0.802798</td>\n",
       "    </tr>\n",
       "    <tr>\n",
       "      <th>recall</th>\n",
       "      <td>0.794985</td>\n",
       "      <td>0.796640</td>\n",
       "      <td>0.795624</td>\n",
       "      <td>0.795813</td>\n",
       "      <td>0.795624</td>\n",
       "    </tr>\n",
       "    <tr>\n",
       "      <th>f1-score</th>\n",
       "      <td>0.826846</td>\n",
       "      <td>0.750667</td>\n",
       "      <td>0.795624</td>\n",
       "      <td>0.788756</td>\n",
       "      <td>0.797426</td>\n",
       "    </tr>\n",
       "    <tr>\n",
       "      <th>support</th>\n",
       "      <td>8136.000000</td>\n",
       "      <td>5119.000000</td>\n",
       "      <td>0.795624</td>\n",
       "      <td>13255.000000</td>\n",
       "      <td>13255.000000</td>\n",
       "    </tr>\n",
       "  </tbody>\n",
       "</table>\n",
       "</div>"
      ],
      "text/plain": [
       "                     0            1  accuracy     macro avg  weighted avg\n",
       "precision     0.861366     0.709711  0.795624      0.785539      0.802798\n",
       "recall        0.794985     0.796640  0.795624      0.795813      0.795624\n",
       "f1-score      0.826846     0.750667  0.795624      0.788756      0.797426\n",
       "support    8136.000000  5119.000000  0.795624  13255.000000  13255.000000"
      ]
     },
     "execution_count": 99,
     "metadata": {},
     "output_type": "execute_result"
    }
   ],
   "source": [
    "fpr, tpr, thresholds = roc_curve(y_test, randomf_predictions)\n",
    "auc = roc_auc_score(y_test, randomf_predictions)\n",
    "pd.DataFrame(classification_report(y_test, gbt_predictions, output_dict=True))"
   ]
  },
  {
   "cell_type": "code",
   "execution_count": 85,
   "metadata": {},
   "outputs": [
    {
     "data": {
      "image/png": "[encoded data removed]",
      "text/plain": [
       "<Figure size 432x288 with 1 Axes>"
      ]
     },
     "metadata": {
      "needs_background": "light"
     },
     "output_type": "display_data"
    }
   ],
   "source": [
    "plt.plot(fpr, tpr, label=f'ROC curve (area = {auc:0.2f})', color='orange')\n",
    "plt.plot([0, 1], [0, 1], 'k--', label='Useless Model Limit')\n",
    "\n",
    "plt.xlim([-0.05, 1.05])\n",
    "plt.ylim([-0.05, 1.05])\n",
    "\n",
    "plt.xlabel('False Positive Rate')\n",
    "plt.ylabel('True Positive Rate')\n",
    "plt.title('Random Forest (ROC) Curve')\n",
    "plt.legend(loc=\"lower right\")\n",
    "\n",
    "plt.savefig('../Images/Random_Forest_ROC.png')\n",
    "plt.show()"
   ]
  },
  {
   "attachments": {},
   "cell_type": "markdown",
   "metadata": {},
   "source": [
    "3. Gradient Boosting Trees Accuracy"
   ]
  },
  {
   "cell_type": "code",
   "execution_count": 91,
   "metadata": {},
   "outputs": [
    {
     "data": {
      "text/html": [
       "<div>\n",
       "<style scoped>\n",
       "    .dataframe tbody tr th:only-of-type {\n",
       "        vertical-align: middle;\n",
       "    }\n",
       "\n",
       "    .dataframe tbody tr th {\n",
       "        vertical-align: top;\n",
       "    }\n",
       "\n",
       "    .dataframe thead th {\n",
       "        text-align: right;\n",
       "    }\n",
       "</style>\n",
       "<table border=\"1\" class=\"dataframe\">\n",
       "  <thead>\n",
       "    <tr style=\"text-align: right;\">\n",
       "      <th></th>\n",
       "      <th>0</th>\n",
       "      <th>1</th>\n",
       "      <th>accuracy</th>\n",
       "      <th>macro avg</th>\n",
       "      <th>weighted avg</th>\n",
       "    </tr>\n",
       "  </thead>\n",
       "  <tbody>\n",
       "    <tr>\n",
       "      <th>precision</th>\n",
       "      <td>0.861366</td>\n",
       "      <td>0.709711</td>\n",
       "      <td>0.795624</td>\n",
       "      <td>0.785539</td>\n",
       "      <td>0.802798</td>\n",
       "    </tr>\n",
       "    <tr>\n",
       "      <th>recall</th>\n",
       "      <td>0.794985</td>\n",
       "      <td>0.796640</td>\n",
       "      <td>0.795624</td>\n",
       "      <td>0.795813</td>\n",
       "      <td>0.795624</td>\n",
       "    </tr>\n",
       "    <tr>\n",
       "      <th>f1-score</th>\n",
       "      <td>0.826846</td>\n",
       "      <td>0.750667</td>\n",
       "      <td>0.795624</td>\n",
       "      <td>0.788756</td>\n",
       "      <td>0.797426</td>\n",
       "    </tr>\n",
       "    <tr>\n",
       "      <th>support</th>\n",
       "      <td>8136.000000</td>\n",
       "      <td>5119.000000</td>\n",
       "      <td>0.795624</td>\n",
       "      <td>13255.000000</td>\n",
       "      <td>13255.000000</td>\n",
       "    </tr>\n",
       "  </tbody>\n",
       "</table>\n",
       "</div>"
      ],
      "text/plain": [
       "                     0            1  accuracy     macro avg  weighted avg\n",
       "precision     0.861366     0.709711  0.795624      0.785539      0.802798\n",
       "recall        0.794985     0.796640  0.795624      0.795813      0.795624\n",
       "f1-score      0.826846     0.750667  0.795624      0.788756      0.797426\n",
       "support    8136.000000  5119.000000  0.795624  13255.000000  13255.000000"
      ]
     },
     "execution_count": 91,
     "metadata": {},
     "output_type": "execute_result"
    }
   ],
   "source": [
    "fpr, tpr, thresholds = roc_curve(y_test, gbt_predictions)\n",
    "auc = roc_auc_score(y_test, gbt_predictions)\n",
    "pd.DataFrame(classification_report(y_test, gbt_predictions, output_dict=True))"
   ]
  },
  {
   "cell_type": "code",
   "execution_count": 88,
   "metadata": {},
   "outputs": [
    {
     "data": {
      "image/png": "[encoded data removed]",
      "text/plain": [
       "<Figure size 432x288 with 1 Axes>"
      ]
     },
     "metadata": {
      "needs_background": "light"
     },
     "output_type": "display_data"
    }
   ],
   "source": [
    "plt.plot(fpr, tpr, label=f'ROC curve (area = {auc:0.2f})', color='orange')\n",
    "plt.plot([0, 1], [0, 1], 'k--', label='Useless Model Limit')\n",
    "\n",
    "plt.xlim([-0.05, 1.05])\n",
    "plt.ylim([-0.05, 1.05])\n",
    "\n",
    "plt.xlabel('False Positive Rate')\n",
    "plt.ylabel('True Positive Rate')\n",
    "plt.title('Gradient Boosting Trees (ROC) Curve')\n",
    "plt.legend(loc=\"lower right\")\n",
    "\n",
    "plt.savefig('../Images/Gradient_Boosting_Trees_ROC.png')\n",
    "plt.show()"
   ]
  },
  {
   "attachments": {},
   "cell_type": "markdown",
   "metadata": {},
   "source": [
    "4. GaussianNB & BernoulliNB Accuracy"
   ]
  },
  {
   "cell_type": "code",
   "execution_count": 93,
   "metadata": {},
   "outputs": [
    {
     "name": "stdout",
     "output_type": "stream",
     "text": [
      "BernoulliNB:\n"
     ]
    },
    {
     "data": {
      "text/html": [
       "<div>\n",
       "<style scoped>\n",
       "    .dataframe tbody tr th:only-of-type {\n",
       "        vertical-align: middle;\n",
       "    }\n",
       "\n",
       "    .dataframe tbody tr th {\n",
       "        vertical-align: top;\n",
       "    }\n",
       "\n",
       "    .dataframe thead th {\n",
       "        text-align: right;\n",
       "    }\n",
       "</style>\n",
       "<table border=\"1\" class=\"dataframe\">\n",
       "  <thead>\n",
       "    <tr style=\"text-align: right;\">\n",
       "      <th></th>\n",
       "      <th>0</th>\n",
       "      <th>1</th>\n",
       "      <th>accuracy</th>\n",
       "      <th>macro avg</th>\n",
       "      <th>weighted avg</th>\n",
       "    </tr>\n",
       "  </thead>\n",
       "  <tbody>\n",
       "    <tr>\n",
       "      <th>precision</th>\n",
       "      <td>0.737971</td>\n",
       "      <td>0.492372</td>\n",
       "      <td>0.605583</td>\n",
       "      <td>0.615171</td>\n",
       "      <td>0.643122</td>\n",
       "    </tr>\n",
       "    <tr>\n",
       "      <th>recall</th>\n",
       "      <td>0.554204</td>\n",
       "      <td>0.687244</td>\n",
       "      <td>0.605583</td>\n",
       "      <td>0.620724</td>\n",
       "      <td>0.605583</td>\n",
       "    </tr>\n",
       "    <tr>\n",
       "      <th>f1-score</th>\n",
       "      <td>0.633020</td>\n",
       "      <td>0.573712</td>\n",
       "      <td>0.605583</td>\n",
       "      <td>0.603366</td>\n",
       "      <td>0.610115</td>\n",
       "    </tr>\n",
       "    <tr>\n",
       "      <th>support</th>\n",
       "      <td>8136.000000</td>\n",
       "      <td>5119.000000</td>\n",
       "      <td>0.605583</td>\n",
       "      <td>13255.000000</td>\n",
       "      <td>13255.000000</td>\n",
       "    </tr>\n",
       "  </tbody>\n",
       "</table>\n",
       "</div>"
      ],
      "text/plain": [
       "                     0            1  accuracy     macro avg  weighted avg\n",
       "precision     0.737971     0.492372  0.605583      0.615171      0.643122\n",
       "recall        0.554204     0.687244  0.605583      0.620724      0.605583\n",
       "f1-score      0.633020     0.573712  0.605583      0.603366      0.610115\n",
       "support    8136.000000  5119.000000  0.605583  13255.000000  13255.000000"
      ]
     },
     "execution_count": 93,
     "metadata": {},
     "output_type": "execute_result"
    }
   ],
   "source": [
    "fpr, tpr, thresholds = roc_curve(y_test, bnb_predictions)\n",
    "auc = roc_auc_score(y_test, bnb_predictions)\n",
    "print(\"BernoulliNB:\")\n",
    "pd.DataFrame(classification_report(y_test, bnb_predictions, output_dict=True))"
   ]
  },
  {
   "cell_type": "code",
   "execution_count": 94,
   "metadata": {},
   "outputs": [
    {
     "data": {
      "image/png": "[encoded data removed]",
      "text/plain": [
       "<Figure size 432x288 with 1 Axes>"
      ]
     },
     "metadata": {
      "needs_background": "light"
     },
     "output_type": "display_data"
    }
   ],
   "source": [
    "plt.plot(fpr, tpr, label=f'ROC curve (area = {auc:0.2f})', color='orange')\n",
    "plt.plot([0, 1], [0, 1], 'k--', label='Useless Model Limit')\n",
    "\n",
    "plt.xlim([-0.05, 1.05])\n",
    "plt.ylim([-0.05, 1.05])\n",
    "\n",
    "plt.xlabel('False Positive Rate')\n",
    "plt.ylabel('True Positive Rate')\n",
    "plt.title('Bernoulli Naive Bayes (ROC) Curve')\n",
    "plt.legend(loc=\"lower right\")\n",
    "\n",
    "plt.savefig('../Images/BernoulliNB_ROC.png')\n",
    "plt.show()"
   ]
  },
  {
   "cell_type": "code",
   "execution_count": 95,
   "metadata": {},
   "outputs": [
    {
     "name": "stdout",
     "output_type": "stream",
     "text": [
      "BernoulliNB:\n"
     ]
    },
    {
     "data": {
      "text/html": [
       "<div>\n",
       "<style scoped>\n",
       "    .dataframe tbody tr th:only-of-type {\n",
       "        vertical-align: middle;\n",
       "    }\n",
       "\n",
       "    .dataframe tbody tr th {\n",
       "        vertical-align: top;\n",
       "    }\n",
       "\n",
       "    .dataframe thead th {\n",
       "        text-align: right;\n",
       "    }\n",
       "</style>\n",
       "<table border=\"1\" class=\"dataframe\">\n",
       "  <thead>\n",
       "    <tr style=\"text-align: right;\">\n",
       "      <th></th>\n",
       "      <th>0</th>\n",
       "      <th>1</th>\n",
       "      <th>accuracy</th>\n",
       "      <th>macro avg</th>\n",
       "      <th>weighted avg</th>\n",
       "    </tr>\n",
       "  </thead>\n",
       "  <tbody>\n",
       "    <tr>\n",
       "      <th>precision</th>\n",
       "      <td>0.716978</td>\n",
       "      <td>0.503630</td>\n",
       "      <td>0.617201</td>\n",
       "      <td>0.610304</td>\n",
       "      <td>0.634584</td>\n",
       "    </tr>\n",
       "    <tr>\n",
       "      <th>recall</th>\n",
       "      <td>0.621804</td>\n",
       "      <td>0.609885</td>\n",
       "      <td>0.617201</td>\n",
       "      <td>0.615845</td>\n",
       "      <td>0.617201</td>\n",
       "    </tr>\n",
       "    <tr>\n",
       "      <th>f1-score</th>\n",
       "      <td>0.666008</td>\n",
       "      <td>0.551688</td>\n",
       "      <td>0.617201</td>\n",
       "      <td>0.608848</td>\n",
       "      <td>0.621858</td>\n",
       "    </tr>\n",
       "    <tr>\n",
       "      <th>support</th>\n",
       "      <td>8136.000000</td>\n",
       "      <td>5119.000000</td>\n",
       "      <td>0.617201</td>\n",
       "      <td>13255.000000</td>\n",
       "      <td>13255.000000</td>\n",
       "    </tr>\n",
       "  </tbody>\n",
       "</table>\n",
       "</div>"
      ],
      "text/plain": [
       "                     0            1  accuracy     macro avg  weighted avg\n",
       "precision     0.716978     0.503630  0.617201      0.610304      0.634584\n",
       "recall        0.621804     0.609885  0.617201      0.615845      0.617201\n",
       "f1-score      0.666008     0.551688  0.617201      0.608848      0.621858\n",
       "support    8136.000000  5119.000000  0.617201  13255.000000  13255.000000"
      ]
     },
     "execution_count": 95,
     "metadata": {},
     "output_type": "execute_result"
    }
   ],
   "source": [
    "fpr, tpr, thresholds = roc_curve(y_test, gnb_predictions)\n",
    "auc = roc_auc_score(y_test, gnb_predictions)\n",
    "print(\"BernoulliNB:\")\n",
    "pd.DataFrame(classification_report(y_test, gnb_predictions, output_dict=True))"
   ]
  },
  {
   "cell_type": "code",
   "execution_count": 96,
   "metadata": {},
   "outputs": [
    {
     "data": {
      "image/png": "[encoded data removed]",
      "text/plain": [
       "<Figure size 432x288 with 1 Axes>"
      ]
     },
     "metadata": {
      "needs_background": "light"
     },
     "output_type": "display_data"
    }
   ],
   "source": [
    "plt.plot(fpr, tpr, label=f'ROC curve (area = {auc:0.2f})', color='orange')\n",
    "plt.plot([0, 1], [0, 1], 'k--', label='Useless Model Limit')\n",
    "\n",
    "plt.xlim([-0.05, 1.05])\n",
    "plt.ylim([-0.05, 1.05])\n",
    "\n",
    "plt.xlabel('False Positive Rate')\n",
    "plt.ylabel('True Positive Rate')\n",
    "plt.title('Gaussian Naive Bayes (ROC) Curve')\n",
    "plt.legend(loc=\"lower right\")\n",
    "\n",
    "plt.savefig('../Images/GaussianNB_ROC.png')\n",
    "plt.show()"
   ]
  },
  {
   "attachments": {},
   "cell_type": "markdown",
   "metadata": {},
   "source": [
    "5. Support Vector Machines Accuracy"
   ]
  },
  {
   "cell_type": "code",
   "execution_count": 100,
   "metadata": {},
   "outputs": [
    {
     "name": "stdout",
     "output_type": "stream",
     "text": [
      "BernoulliNB:\n"
     ]
    },
    {
     "data": {
      "text/html": [
       "<div>\n",
       "<style scoped>\n",
       "    .dataframe tbody tr th:only-of-type {\n",
       "        vertical-align: middle;\n",
       "    }\n",
       "\n",
       "    .dataframe tbody tr th {\n",
       "        vertical-align: top;\n",
       "    }\n",
       "\n",
       "    .dataframe thead th {\n",
       "        text-align: right;\n",
       "    }\n",
       "</style>\n",
       "<table border=\"1\" class=\"dataframe\">\n",
       "  <thead>\n",
       "    <tr style=\"text-align: right;\">\n",
       "      <th></th>\n",
       "      <th>0</th>\n",
       "      <th>1</th>\n",
       "      <th>accuracy</th>\n",
       "      <th>macro avg</th>\n",
       "      <th>weighted avg</th>\n",
       "    </tr>\n",
       "  </thead>\n",
       "  <tbody>\n",
       "    <tr>\n",
       "      <th>precision</th>\n",
       "      <td>0.820267</td>\n",
       "      <td>0.648015</td>\n",
       "      <td>0.744323</td>\n",
       "      <td>0.734141</td>\n",
       "      <td>0.753744</td>\n",
       "    </tr>\n",
       "    <tr>\n",
       "      <th>recall</th>\n",
       "      <td>0.747173</td>\n",
       "      <td>0.739793</td>\n",
       "      <td>0.744323</td>\n",
       "      <td>0.743483</td>\n",
       "      <td>0.744323</td>\n",
       "    </tr>\n",
       "    <tr>\n",
       "      <th>f1-score</th>\n",
       "      <td>0.782016</td>\n",
       "      <td>0.690869</td>\n",
       "      <td>0.744323</td>\n",
       "      <td>0.736443</td>\n",
       "      <td>0.746816</td>\n",
       "    </tr>\n",
       "    <tr>\n",
       "      <th>support</th>\n",
       "      <td>8136.000000</td>\n",
       "      <td>5119.000000</td>\n",
       "      <td>0.744323</td>\n",
       "      <td>13255.000000</td>\n",
       "      <td>13255.000000</td>\n",
       "    </tr>\n",
       "  </tbody>\n",
       "</table>\n",
       "</div>"
      ],
      "text/plain": [
       "                     0            1  accuracy     macro avg  weighted avg\n",
       "precision     0.820267     0.648015  0.744323      0.734141      0.753744\n",
       "recall        0.747173     0.739793  0.744323      0.743483      0.744323\n",
       "f1-score      0.782016     0.690869  0.744323      0.736443      0.746816\n",
       "support    8136.000000  5119.000000  0.744323  13255.000000  13255.000000"
      ]
     },
     "execution_count": 100,
     "metadata": {},
     "output_type": "execute_result"
    }
   ],
   "source": [
    "fpr, tpr, thresholds = roc_curve(y_test, svc_predictions)\n",
    "auc = roc_auc_score(y_test, svc_predictions)\n",
    "print(\"BernoulliNB:\")\n",
    "pd.DataFrame(classification_report(y_test, svc_predictions, output_dict=True))"
   ]
  },
  {
   "cell_type": "code",
   "execution_count": 101,
   "metadata": {},
   "outputs": [
    {
     "data": {
      "image/png": "[encoded data removed]",
      "text/plain": [
       "<Figure size 432x288 with 1 Axes>"
      ]
     },
     "metadata": {
      "needs_background": "light"
     },
     "output_type": "display_data"
    }
   ],
   "source": [
    "plt.plot(fpr, tpr, label=f'ROC curve (area = {auc:0.2f})', color='orange')\n",
    "plt.plot([0, 1], [0, 1], 'k--', label='Useless Model Limit')\n",
    "\n",
    "plt.xlim([-0.05, 1.05])\n",
    "plt.ylim([-0.05, 1.05])\n",
    "\n",
    "plt.xlabel('False Positive Rate')\n",
    "plt.ylabel('True Positive Rate')\n",
    "plt.title('Support Vector Machines (ROC) Curve')\n",
    "plt.legend(loc=\"lower right\")\n",
    "\n",
    "plt.savefig('../Images/SVM.png')\n",
    "plt.show()"
   ]
  },
  {
   "attachments": {},
   "cell_type": "markdown",
   "metadata": {},
   "source": [
    "<hr>"
   ]
  }
 ],
 "metadata": {
  "kernelspec": {
   "display_name": "Python 3",
   "language": "python",
   "name": "python3"
  },
  "language_info": {
   "codemirror_mode": {
    "name": "ipython",
    "version": 3
   },
   "file_extension": ".py",
   "mimetype": "text/x-python",
   "name": "python",
   "nbconvert_exporter": "python",
   "pygments_lexer": "ipython3",
   "version": "3.10.5"
  },
  "orig_nbformat": 4,
  "vscode": {
   "interpreter": {
    "hash": "578ce5a4903d7b45920c2d79663ce2541e7c0226009dc3f8451a28c8417bba54"
   }
  }
 },
 "nbformat": 4,
 "nbformat_minor": 2
}
